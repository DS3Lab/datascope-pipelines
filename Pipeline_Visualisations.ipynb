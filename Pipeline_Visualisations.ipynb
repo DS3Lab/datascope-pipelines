{
 "cells": [
  {
   "cell_type": "code",
   "execution_count": 19,
   "metadata": {},
   "outputs": [
    {
     "name": "stdout",
     "output_type": "stream",
     "text": [
      "The autoreload extension is already loaded. To reload it, use:\n",
      "  %reload_ext autoreload\n"
     ]
    }
   ],
   "source": [
    "%load_ext autoreload\n",
    "%autoreload 2"
   ]
  },
  {
   "cell_type": "code",
   "execution_count": 58,
   "metadata": {},
   "outputs": [
    {
     "name": "stderr",
     "output_type": "stream",
     "text": [
      "[nltk_data] Downloading package stopwords to /Users/david/nltk_data...\n",
      "[nltk_data]   Package stopwords is already up-to-date!\n",
      "[nltk_data] Downloading package wordnet to /Users/david/nltk_data...\n",
      "[nltk_data]   Package wordnet is already up-to-date!\n",
      "[nltk_data] Downloading package punkt to /Users/david/nltk_data...\n",
      "[nltk_data]   Package punkt is already up-to-date!\n"
     ]
    }
   ],
   "source": [
    "from src import Pipelines, TextPipeline"
   ]
  },
  {
   "cell_type": "code",
   "execution_count": 21,
   "metadata": {},
   "outputs": [],
   "source": [
    "from sklearn import set_config\n",
    "set_config(display='diagram')"
   ]
  },
  {
   "cell_type": "markdown",
   "metadata": {},
   "source": [
    "## Dataset\n",
    "\n",
    "We categorize 3 types of datasets: Image, Tabular and Text. More information to the dataset can be found here: https://docs.google.com/presentation/d/1LuKpzSf8jTPWdhjDxqo2_VR2-n_rSnYOeS_XsnQMP1w/edit?usp=sharing"
   ]
  },
  {
   "cell_type": "markdown",
   "metadata": {},
   "source": [
    "## Image Pipelines"
   ]
  },
  {
   "cell_type": "code",
   "execution_count": 25,
   "metadata": {},
   "outputs": [
    {
     "data": {
      "text/html": [
       "<style>div.sk-top-container {color: black;background-color: white;}div.sk-toggleable {background-color: white;}label.sk-toggleable__label {cursor: pointer;display: block;width: 100%;margin-bottom: 0;padding: 0.2em 0.3em;box-sizing: border-box;text-align: center;}div.sk-toggleable__content {max-height: 0;max-width: 0;overflow: hidden;text-align: left;background-color: #f0f8ff;}div.sk-toggleable__content pre {margin: 0.2em;color: black;border-radius: 0.25em;background-color: #f0f8ff;}input.sk-toggleable__control:checked~div.sk-toggleable__content {max-height: 200px;max-width: 100%;overflow: auto;}div.sk-estimator input.sk-toggleable__control:checked~label.sk-toggleable__label {background-color: #d4ebff;}div.sk-label input.sk-toggleable__control:checked~label.sk-toggleable__label {background-color: #d4ebff;}input.sk-hidden--visually {border: 0;clip: rect(1px 1px 1px 1px);clip: rect(1px, 1px, 1px, 1px);height: 1px;margin: -1px;overflow: hidden;padding: 0;position: absolute;width: 1px;}div.sk-estimator {font-family: monospace;background-color: #f0f8ff;margin: 0.25em 0.25em;border: 1px dotted black;border-radius: 0.25em;box-sizing: border-box;}div.sk-estimator:hover {background-color: #d4ebff;}div.sk-parallel-item::after {content: \"\";width: 100%;border-bottom: 1px solid gray;flex-grow: 1;}div.sk-label:hover label.sk-toggleable__label {background-color: #d4ebff;}div.sk-serial::before {content: \"\";position: absolute;border-left: 1px solid gray;box-sizing: border-box;top: 2em;bottom: 0;left: 50%;}div.sk-serial {display: flex;flex-direction: column;align-items: center;background-color: white;}div.sk-item {z-index: 1;}div.sk-parallel {display: flex;align-items: stretch;justify-content: center;background-color: white;}div.sk-parallel-item {display: flex;flex-direction: column;position: relative;background-color: white;}div.sk-parallel-item:first-child::after {align-self: flex-end;width: 50%;}div.sk-parallel-item:last-child::after {align-self: flex-start;width: 50%;}div.sk-parallel-item:only-child::after {width: 0;}div.sk-dashed-wrapped {border: 1px dashed gray;margin: 0.2em;box-sizing: border-box;padding-bottom: 0.1em;background-color: white;position: relative;}div.sk-label label {font-family: monospace;font-weight: bold;background-color: white;display: inline-block;line-height: 1.2em;}div.sk-label-container {position: relative;z-index: 2;text-align: center;}div.sk-container {display: inline-block;position: relative;}</style><div class=\"sk-top-container\"><div class=\"sk-container\"><div class=\"sk-item sk-dashed-wrapped\"><div class=\"sk-label-container\"><div class=\"sk-label sk-toggleable\"><input class=\"sk-toggleable__control sk-hidden--visually\" id=\"12205875-2d2b-4cbb-84bb-3e79bb5b8277\" type=\"checkbox\" ><label class=\"sk-toggleable__label\" for=\"12205875-2d2b-4cbb-84bb-3e79bb5b8277\">Pipeline</label><div class=\"sk-toggleable__content\"><pre>Pipeline(steps=[('identity',\n",
       "                 FunctionTransformer(func=<function get_pipe_ops.<locals>.identity at 0x7fac07b4ac20>)),\n",
       "                ('classifier',\n",
       "                 LogisticRegression(max_iter=5000, random_state=666,\n",
       "                                    solver='liblinear'))])</pre></div></div></div><div class=\"sk-serial\"><div class=\"sk-item\"><div class=\"sk-estimator sk-toggleable\"><input class=\"sk-toggleable__control sk-hidden--visually\" id=\"626407a1-092f-4f6e-bcb1-b201350ef3c3\" type=\"checkbox\" ><label class=\"sk-toggleable__label\" for=\"626407a1-092f-4f6e-bcb1-b201350ef3c3\">FunctionTransformer</label><div class=\"sk-toggleable__content\"><pre>FunctionTransformer(func=<function get_pipe_ops.<locals>.identity at 0x7fac07b4ac20>)</pre></div></div></div><div class=\"sk-item\"><div class=\"sk-estimator sk-toggleable\"><input class=\"sk-toggleable__control sk-hidden--visually\" id=\"04510b86-13d3-41ae-8d2c-4ee0ed9124e0\" type=\"checkbox\" ><label class=\"sk-toggleable__label\" for=\"04510b86-13d3-41ae-8d2c-4ee0ed9124e0\">LogisticRegression</label><div class=\"sk-toggleable__content\"><pre>LogisticRegression(max_iter=5000, random_state=666, solver='liblinear')</pre></div></div></div></div></div></div></div>"
      ],
      "text/plain": [
       "Pipeline(steps=[('identity',\n",
       "                 FunctionTransformer(func=<function get_pipe_ops.<locals>.identity at 0x7fac07b4ac20>)),\n",
       "                ('classifier',\n",
       "                 LogisticRegression(max_iter=5000, random_state=666,\n",
       "                                    solver='liblinear'))])"
      ]
     },
     "execution_count": 25,
     "metadata": {},
     "output_type": "execute_result"
    }
   ],
   "source": [
    "Pipelines.create_numerical_pipeline('pipe_0', imputer=False)"
   ]
  },
  {
   "cell_type": "code",
   "execution_count": 26,
   "metadata": {},
   "outputs": [
    {
     "data": {
      "text/html": [
       "<style>div.sk-top-container {color: black;background-color: white;}div.sk-toggleable {background-color: white;}label.sk-toggleable__label {cursor: pointer;display: block;width: 100%;margin-bottom: 0;padding: 0.2em 0.3em;box-sizing: border-box;text-align: center;}div.sk-toggleable__content {max-height: 0;max-width: 0;overflow: hidden;text-align: left;background-color: #f0f8ff;}div.sk-toggleable__content pre {margin: 0.2em;color: black;border-radius: 0.25em;background-color: #f0f8ff;}input.sk-toggleable__control:checked~div.sk-toggleable__content {max-height: 200px;max-width: 100%;overflow: auto;}div.sk-estimator input.sk-toggleable__control:checked~label.sk-toggleable__label {background-color: #d4ebff;}div.sk-label input.sk-toggleable__control:checked~label.sk-toggleable__label {background-color: #d4ebff;}input.sk-hidden--visually {border: 0;clip: rect(1px 1px 1px 1px);clip: rect(1px, 1px, 1px, 1px);height: 1px;margin: -1px;overflow: hidden;padding: 0;position: absolute;width: 1px;}div.sk-estimator {font-family: monospace;background-color: #f0f8ff;margin: 0.25em 0.25em;border: 1px dotted black;border-radius: 0.25em;box-sizing: border-box;}div.sk-estimator:hover {background-color: #d4ebff;}div.sk-parallel-item::after {content: \"\";width: 100%;border-bottom: 1px solid gray;flex-grow: 1;}div.sk-label:hover label.sk-toggleable__label {background-color: #d4ebff;}div.sk-serial::before {content: \"\";position: absolute;border-left: 1px solid gray;box-sizing: border-box;top: 2em;bottom: 0;left: 50%;}div.sk-serial {display: flex;flex-direction: column;align-items: center;background-color: white;}div.sk-item {z-index: 1;}div.sk-parallel {display: flex;align-items: stretch;justify-content: center;background-color: white;}div.sk-parallel-item {display: flex;flex-direction: column;position: relative;background-color: white;}div.sk-parallel-item:first-child::after {align-self: flex-end;width: 50%;}div.sk-parallel-item:last-child::after {align-self: flex-start;width: 50%;}div.sk-parallel-item:only-child::after {width: 0;}div.sk-dashed-wrapped {border: 1px dashed gray;margin: 0.2em;box-sizing: border-box;padding-bottom: 0.1em;background-color: white;position: relative;}div.sk-label label {font-family: monospace;font-weight: bold;background-color: white;display: inline-block;line-height: 1.2em;}div.sk-label-container {position: relative;z-index: 2;text-align: center;}div.sk-container {display: inline-block;position: relative;}</style><div class=\"sk-top-container\"><div class=\"sk-container\"><div class=\"sk-item sk-dashed-wrapped\"><div class=\"sk-label-container\"><div class=\"sk-label sk-toggleable\"><input class=\"sk-toggleable__control sk-hidden--visually\" id=\"0d721416-53f4-4ceb-af1b-89056e362359\" type=\"checkbox\" ><label class=\"sk-toggleable__label\" for=\"0d721416-53f4-4ceb-af1b-89056e362359\">Pipeline</label><div class=\"sk-toggleable__content\"><pre>Pipeline(steps=[('i', SimpleImputer(strategy='median')),\n",
       "                ('identity',\n",
       "                 FunctionTransformer(func=<function get_pipe_ops.<locals>.identity at 0x7fac07b4a830>)),\n",
       "                ('classifier',\n",
       "                 LogisticRegression(max_iter=5000, random_state=666,\n",
       "                                    solver='liblinear'))])</pre></div></div></div><div class=\"sk-serial\"><div class=\"sk-item\"><div class=\"sk-estimator sk-toggleable\"><input class=\"sk-toggleable__control sk-hidden--visually\" id=\"c979f74b-d71f-44a8-beec-086a45fbcf2d\" type=\"checkbox\" ><label class=\"sk-toggleable__label\" for=\"c979f74b-d71f-44a8-beec-086a45fbcf2d\">SimpleImputer</label><div class=\"sk-toggleable__content\"><pre>SimpleImputer(strategy='median')</pre></div></div></div><div class=\"sk-item\"><div class=\"sk-estimator sk-toggleable\"><input class=\"sk-toggleable__control sk-hidden--visually\" id=\"90e99922-dcec-4fc7-a83e-3d899b2cbe7c\" type=\"checkbox\" ><label class=\"sk-toggleable__label\" for=\"90e99922-dcec-4fc7-a83e-3d899b2cbe7c\">FunctionTransformer</label><div class=\"sk-toggleable__content\"><pre>FunctionTransformer(func=<function get_pipe_ops.<locals>.identity at 0x7fac07b4a830>)</pre></div></div></div><div class=\"sk-item\"><div class=\"sk-estimator sk-toggleable\"><input class=\"sk-toggleable__control sk-hidden--visually\" id=\"75dbd47f-79f8-44e7-8753-9822d2c0802f\" type=\"checkbox\" ><label class=\"sk-toggleable__label\" for=\"75dbd47f-79f8-44e7-8753-9822d2c0802f\">LogisticRegression</label><div class=\"sk-toggleable__content\"><pre>LogisticRegression(max_iter=5000, random_state=666, solver='liblinear')</pre></div></div></div></div></div></div></div>"
      ],
      "text/plain": [
       "Pipeline(steps=[('i', SimpleImputer(strategy='median')),\n",
       "                ('identity',\n",
       "                 FunctionTransformer(func=<function get_pipe_ops.<locals>.identity at 0x7fac07b4a830>)),\n",
       "                ('classifier',\n",
       "                 LogisticRegression(max_iter=5000, random_state=666,\n",
       "                                    solver='liblinear'))])"
      ]
     },
     "execution_count": 26,
     "metadata": {},
     "output_type": "execute_result"
    }
   ],
   "source": [
    "Pipelines.create_numerical_pipeline('pipe_0', imputer=True)"
   ]
  },
  {
   "cell_type": "code",
   "execution_count": 27,
   "metadata": {},
   "outputs": [
    {
     "data": {
      "text/html": [
       "<style>div.sk-top-container {color: black;background-color: white;}div.sk-toggleable {background-color: white;}label.sk-toggleable__label {cursor: pointer;display: block;width: 100%;margin-bottom: 0;padding: 0.2em 0.3em;box-sizing: border-box;text-align: center;}div.sk-toggleable__content {max-height: 0;max-width: 0;overflow: hidden;text-align: left;background-color: #f0f8ff;}div.sk-toggleable__content pre {margin: 0.2em;color: black;border-radius: 0.25em;background-color: #f0f8ff;}input.sk-toggleable__control:checked~div.sk-toggleable__content {max-height: 200px;max-width: 100%;overflow: auto;}div.sk-estimator input.sk-toggleable__control:checked~label.sk-toggleable__label {background-color: #d4ebff;}div.sk-label input.sk-toggleable__control:checked~label.sk-toggleable__label {background-color: #d4ebff;}input.sk-hidden--visually {border: 0;clip: rect(1px 1px 1px 1px);clip: rect(1px, 1px, 1px, 1px);height: 1px;margin: -1px;overflow: hidden;padding: 0;position: absolute;width: 1px;}div.sk-estimator {font-family: monospace;background-color: #f0f8ff;margin: 0.25em 0.25em;border: 1px dotted black;border-radius: 0.25em;box-sizing: border-box;}div.sk-estimator:hover {background-color: #d4ebff;}div.sk-parallel-item::after {content: \"\";width: 100%;border-bottom: 1px solid gray;flex-grow: 1;}div.sk-label:hover label.sk-toggleable__label {background-color: #d4ebff;}div.sk-serial::before {content: \"\";position: absolute;border-left: 1px solid gray;box-sizing: border-box;top: 2em;bottom: 0;left: 50%;}div.sk-serial {display: flex;flex-direction: column;align-items: center;background-color: white;}div.sk-item {z-index: 1;}div.sk-parallel {display: flex;align-items: stretch;justify-content: center;background-color: white;}div.sk-parallel-item {display: flex;flex-direction: column;position: relative;background-color: white;}div.sk-parallel-item:first-child::after {align-self: flex-end;width: 50%;}div.sk-parallel-item:last-child::after {align-self: flex-start;width: 50%;}div.sk-parallel-item:only-child::after {width: 0;}div.sk-dashed-wrapped {border: 1px dashed gray;margin: 0.2em;box-sizing: border-box;padding-bottom: 0.1em;background-color: white;position: relative;}div.sk-label label {font-family: monospace;font-weight: bold;background-color: white;display: inline-block;line-height: 1.2em;}div.sk-label-container {position: relative;z-index: 2;text-align: center;}div.sk-container {display: inline-block;position: relative;}</style><div class=\"sk-top-container\"><div class=\"sk-container\"><div class=\"sk-item sk-dashed-wrapped\"><div class=\"sk-label-container\"><div class=\"sk-label sk-toggleable\"><input class=\"sk-toggleable__control sk-hidden--visually\" id=\"adff938f-d564-4dab-ad1e-29736766f801\" type=\"checkbox\" ><label class=\"sk-toggleable__label\" for=\"adff938f-d564-4dab-ad1e-29736766f801\">Pipeline</label><div class=\"sk-toggleable__content\"><pre>Pipeline(steps=[('i', SimpleImputer(strategy='median')),\n",
       "                ('scaler', StandardScaler()),\n",
       "                ('classifier',\n",
       "                 LogisticRegression(max_iter=5000, random_state=666,\n",
       "                                    solver='liblinear'))])</pre></div></div></div><div class=\"sk-serial\"><div class=\"sk-item\"><div class=\"sk-estimator sk-toggleable\"><input class=\"sk-toggleable__control sk-hidden--visually\" id=\"f689265a-f69a-4738-bc9b-be71062d927c\" type=\"checkbox\" ><label class=\"sk-toggleable__label\" for=\"f689265a-f69a-4738-bc9b-be71062d927c\">SimpleImputer</label><div class=\"sk-toggleable__content\"><pre>SimpleImputer(strategy='median')</pre></div></div></div><div class=\"sk-item\"><div class=\"sk-estimator sk-toggleable\"><input class=\"sk-toggleable__control sk-hidden--visually\" id=\"616b647f-c990-4a39-9d45-51d2dcaa6388\" type=\"checkbox\" ><label class=\"sk-toggleable__label\" for=\"616b647f-c990-4a39-9d45-51d2dcaa6388\">StandardScaler</label><div class=\"sk-toggleable__content\"><pre>StandardScaler()</pre></div></div></div><div class=\"sk-item\"><div class=\"sk-estimator sk-toggleable\"><input class=\"sk-toggleable__control sk-hidden--visually\" id=\"cceb457a-682c-4fcb-a128-2396d873a357\" type=\"checkbox\" ><label class=\"sk-toggleable__label\" for=\"cceb457a-682c-4fcb-a128-2396d873a357\">LogisticRegression</label><div class=\"sk-toggleable__content\"><pre>LogisticRegression(max_iter=5000, random_state=666, solver='liblinear')</pre></div></div></div></div></div></div></div>"
      ],
      "text/plain": [
       "Pipeline(steps=[('i', SimpleImputer(strategy='median')),\n",
       "                ('scaler', StandardScaler()),\n",
       "                ('classifier',\n",
       "                 LogisticRegression(max_iter=5000, random_state=666,\n",
       "                                    solver='liblinear'))])"
      ]
     },
     "execution_count": 27,
     "metadata": {},
     "output_type": "execute_result"
    }
   ],
   "source": [
    "Pipelines.create_numerical_pipeline('pipe_1')"
   ]
  },
  {
   "cell_type": "code",
   "execution_count": 28,
   "metadata": {},
   "outputs": [
    {
     "data": {
      "text/html": [
       "<style>div.sk-top-container {color: black;background-color: white;}div.sk-toggleable {background-color: white;}label.sk-toggleable__label {cursor: pointer;display: block;width: 100%;margin-bottom: 0;padding: 0.2em 0.3em;box-sizing: border-box;text-align: center;}div.sk-toggleable__content {max-height: 0;max-width: 0;overflow: hidden;text-align: left;background-color: #f0f8ff;}div.sk-toggleable__content pre {margin: 0.2em;color: black;border-radius: 0.25em;background-color: #f0f8ff;}input.sk-toggleable__control:checked~div.sk-toggleable__content {max-height: 200px;max-width: 100%;overflow: auto;}div.sk-estimator input.sk-toggleable__control:checked~label.sk-toggleable__label {background-color: #d4ebff;}div.sk-label input.sk-toggleable__control:checked~label.sk-toggleable__label {background-color: #d4ebff;}input.sk-hidden--visually {border: 0;clip: rect(1px 1px 1px 1px);clip: rect(1px, 1px, 1px, 1px);height: 1px;margin: -1px;overflow: hidden;padding: 0;position: absolute;width: 1px;}div.sk-estimator {font-family: monospace;background-color: #f0f8ff;margin: 0.25em 0.25em;border: 1px dotted black;border-radius: 0.25em;box-sizing: border-box;}div.sk-estimator:hover {background-color: #d4ebff;}div.sk-parallel-item::after {content: \"\";width: 100%;border-bottom: 1px solid gray;flex-grow: 1;}div.sk-label:hover label.sk-toggleable__label {background-color: #d4ebff;}div.sk-serial::before {content: \"\";position: absolute;border-left: 1px solid gray;box-sizing: border-box;top: 2em;bottom: 0;left: 50%;}div.sk-serial {display: flex;flex-direction: column;align-items: center;background-color: white;}div.sk-item {z-index: 1;}div.sk-parallel {display: flex;align-items: stretch;justify-content: center;background-color: white;}div.sk-parallel-item {display: flex;flex-direction: column;position: relative;background-color: white;}div.sk-parallel-item:first-child::after {align-self: flex-end;width: 50%;}div.sk-parallel-item:last-child::after {align-self: flex-start;width: 50%;}div.sk-parallel-item:only-child::after {width: 0;}div.sk-dashed-wrapped {border: 1px dashed gray;margin: 0.2em;box-sizing: border-box;padding-bottom: 0.1em;background-color: white;position: relative;}div.sk-label label {font-family: monospace;font-weight: bold;background-color: white;display: inline-block;line-height: 1.2em;}div.sk-label-container {position: relative;z-index: 2;text-align: center;}div.sk-container {display: inline-block;position: relative;}</style><div class=\"sk-top-container\"><div class=\"sk-container\"><div class=\"sk-item sk-dashed-wrapped\"><div class=\"sk-label-container\"><div class=\"sk-label sk-toggleable\"><input class=\"sk-toggleable__control sk-hidden--visually\" id=\"c90881c9-e2dc-4220-9bed-ba15931074a6\" type=\"checkbox\" ><label class=\"sk-toggleable__label\" for=\"c90881c9-e2dc-4220-9bed-ba15931074a6\">Pipeline</label><div class=\"sk-toggleable__content\"><pre>Pipeline(steps=[('i', SimpleImputer(strategy='median')),\n",
       "                ('logscaler',\n",
       "                 FunctionTransformer(func=<function get_pipe_ops.<locals>.logVar at 0x7fac07b4a950>)),\n",
       "                ('classifier',\n",
       "                 LogisticRegression(max_iter=5000, random_state=666,\n",
       "                                    solver='liblinear'))])</pre></div></div></div><div class=\"sk-serial\"><div class=\"sk-item\"><div class=\"sk-estimator sk-toggleable\"><input class=\"sk-toggleable__control sk-hidden--visually\" id=\"958f4a67-b9d3-42c2-b202-94b9cd621cb8\" type=\"checkbox\" ><label class=\"sk-toggleable__label\" for=\"958f4a67-b9d3-42c2-b202-94b9cd621cb8\">SimpleImputer</label><div class=\"sk-toggleable__content\"><pre>SimpleImputer(strategy='median')</pre></div></div></div><div class=\"sk-item\"><div class=\"sk-estimator sk-toggleable\"><input class=\"sk-toggleable__control sk-hidden--visually\" id=\"c71bd424-69ab-41d9-b3a6-4cc6ecf64f76\" type=\"checkbox\" ><label class=\"sk-toggleable__label\" for=\"c71bd424-69ab-41d9-b3a6-4cc6ecf64f76\">FunctionTransformer</label><div class=\"sk-toggleable__content\"><pre>FunctionTransformer(func=<function get_pipe_ops.<locals>.logVar at 0x7fac07b4a950>)</pre></div></div></div><div class=\"sk-item\"><div class=\"sk-estimator sk-toggleable\"><input class=\"sk-toggleable__control sk-hidden--visually\" id=\"976b302f-3f27-425e-83f1-b0e3356c3a57\" type=\"checkbox\" ><label class=\"sk-toggleable__label\" for=\"976b302f-3f27-425e-83f1-b0e3356c3a57\">LogisticRegression</label><div class=\"sk-toggleable__content\"><pre>LogisticRegression(max_iter=5000, random_state=666, solver='liblinear')</pre></div></div></div></div></div></div></div>"
      ],
      "text/plain": [
       "Pipeline(steps=[('i', SimpleImputer(strategy='median')),\n",
       "                ('logscaler',\n",
       "                 FunctionTransformer(func=<function get_pipe_ops.<locals>.logVar at 0x7fac07b4a950>)),\n",
       "                ('classifier',\n",
       "                 LogisticRegression(max_iter=5000, random_state=666,\n",
       "                                    solver='liblinear'))])"
      ]
     },
     "execution_count": 28,
     "metadata": {},
     "output_type": "execute_result"
    }
   ],
   "source": [
    "Pipelines.create_numerical_pipeline('pipe_2')"
   ]
  },
  {
   "cell_type": "code",
   "execution_count": 29,
   "metadata": {},
   "outputs": [
    {
     "data": {
      "text/html": [
       "<style>div.sk-top-container {color: black;background-color: white;}div.sk-toggleable {background-color: white;}label.sk-toggleable__label {cursor: pointer;display: block;width: 100%;margin-bottom: 0;padding: 0.2em 0.3em;box-sizing: border-box;text-align: center;}div.sk-toggleable__content {max-height: 0;max-width: 0;overflow: hidden;text-align: left;background-color: #f0f8ff;}div.sk-toggleable__content pre {margin: 0.2em;color: black;border-radius: 0.25em;background-color: #f0f8ff;}input.sk-toggleable__control:checked~div.sk-toggleable__content {max-height: 200px;max-width: 100%;overflow: auto;}div.sk-estimator input.sk-toggleable__control:checked~label.sk-toggleable__label {background-color: #d4ebff;}div.sk-label input.sk-toggleable__control:checked~label.sk-toggleable__label {background-color: #d4ebff;}input.sk-hidden--visually {border: 0;clip: rect(1px 1px 1px 1px);clip: rect(1px, 1px, 1px, 1px);height: 1px;margin: -1px;overflow: hidden;padding: 0;position: absolute;width: 1px;}div.sk-estimator {font-family: monospace;background-color: #f0f8ff;margin: 0.25em 0.25em;border: 1px dotted black;border-radius: 0.25em;box-sizing: border-box;}div.sk-estimator:hover {background-color: #d4ebff;}div.sk-parallel-item::after {content: \"\";width: 100%;border-bottom: 1px solid gray;flex-grow: 1;}div.sk-label:hover label.sk-toggleable__label {background-color: #d4ebff;}div.sk-serial::before {content: \"\";position: absolute;border-left: 1px solid gray;box-sizing: border-box;top: 2em;bottom: 0;left: 50%;}div.sk-serial {display: flex;flex-direction: column;align-items: center;background-color: white;}div.sk-item {z-index: 1;}div.sk-parallel {display: flex;align-items: stretch;justify-content: center;background-color: white;}div.sk-parallel-item {display: flex;flex-direction: column;position: relative;background-color: white;}div.sk-parallel-item:first-child::after {align-self: flex-end;width: 50%;}div.sk-parallel-item:last-child::after {align-self: flex-start;width: 50%;}div.sk-parallel-item:only-child::after {width: 0;}div.sk-dashed-wrapped {border: 1px dashed gray;margin: 0.2em;box-sizing: border-box;padding-bottom: 0.1em;background-color: white;position: relative;}div.sk-label label {font-family: monospace;font-weight: bold;background-color: white;display: inline-block;line-height: 1.2em;}div.sk-label-container {position: relative;z-index: 2;text-align: center;}div.sk-container {display: inline-block;position: relative;}</style><div class=\"sk-top-container\"><div class=\"sk-container\"><div class=\"sk-item sk-dashed-wrapped\"><div class=\"sk-label-container\"><div class=\"sk-label sk-toggleable\"><input class=\"sk-toggleable__control sk-hidden--visually\" id=\"f8fd4921-6e7e-4f0b-acca-db5381b68c06\" type=\"checkbox\" ><label class=\"sk-toggleable__label\" for=\"f8fd4921-6e7e-4f0b-acca-db5381b68c06\">Pipeline</label><div class=\"sk-toggleable__content\"><pre>Pipeline(steps=[('i', SimpleImputer(strategy='median')), ('PCA', PCA()),\n",
       "                ('classifier',\n",
       "                 LogisticRegression(max_iter=5000, random_state=666,\n",
       "                                    solver='liblinear'))])</pre></div></div></div><div class=\"sk-serial\"><div class=\"sk-item\"><div class=\"sk-estimator sk-toggleable\"><input class=\"sk-toggleable__control sk-hidden--visually\" id=\"057b72cb-f390-4017-a63e-f79e8aa9784d\" type=\"checkbox\" ><label class=\"sk-toggleable__label\" for=\"057b72cb-f390-4017-a63e-f79e8aa9784d\">SimpleImputer</label><div class=\"sk-toggleable__content\"><pre>SimpleImputer(strategy='median')</pre></div></div></div><div class=\"sk-item\"><div class=\"sk-estimator sk-toggleable\"><input class=\"sk-toggleable__control sk-hidden--visually\" id=\"889f7f71-1a16-4a2e-8424-ad3dc6f88121\" type=\"checkbox\" ><label class=\"sk-toggleable__label\" for=\"889f7f71-1a16-4a2e-8424-ad3dc6f88121\">PCA</label><div class=\"sk-toggleable__content\"><pre>PCA()</pre></div></div></div><div class=\"sk-item\"><div class=\"sk-estimator sk-toggleable\"><input class=\"sk-toggleable__control sk-hidden--visually\" id=\"5559d49a-6782-4936-907a-0551d47b9deb\" type=\"checkbox\" ><label class=\"sk-toggleable__label\" for=\"5559d49a-6782-4936-907a-0551d47b9deb\">LogisticRegression</label><div class=\"sk-toggleable__content\"><pre>LogisticRegression(max_iter=5000, random_state=666, solver='liblinear')</pre></div></div></div></div></div></div></div>"
      ],
      "text/plain": [
       "Pipeline(steps=[('i', SimpleImputer(strategy='median')), ('PCA', PCA()),\n",
       "                ('classifier',\n",
       "                 LogisticRegression(max_iter=5000, random_state=666,\n",
       "                                    solver='liblinear'))])"
      ]
     },
     "execution_count": 29,
     "metadata": {},
     "output_type": "execute_result"
    }
   ],
   "source": [
    "Pipelines.create_numerical_pipeline('pipe_3')"
   ]
  },
  {
   "cell_type": "code",
   "execution_count": 30,
   "metadata": {},
   "outputs": [
    {
     "data": {
      "text/html": [
       "<style>div.sk-top-container {color: black;background-color: white;}div.sk-toggleable {background-color: white;}label.sk-toggleable__label {cursor: pointer;display: block;width: 100%;margin-bottom: 0;padding: 0.2em 0.3em;box-sizing: border-box;text-align: center;}div.sk-toggleable__content {max-height: 0;max-width: 0;overflow: hidden;text-align: left;background-color: #f0f8ff;}div.sk-toggleable__content pre {margin: 0.2em;color: black;border-radius: 0.25em;background-color: #f0f8ff;}input.sk-toggleable__control:checked~div.sk-toggleable__content {max-height: 200px;max-width: 100%;overflow: auto;}div.sk-estimator input.sk-toggleable__control:checked~label.sk-toggleable__label {background-color: #d4ebff;}div.sk-label input.sk-toggleable__control:checked~label.sk-toggleable__label {background-color: #d4ebff;}input.sk-hidden--visually {border: 0;clip: rect(1px 1px 1px 1px);clip: rect(1px, 1px, 1px, 1px);height: 1px;margin: -1px;overflow: hidden;padding: 0;position: absolute;width: 1px;}div.sk-estimator {font-family: monospace;background-color: #f0f8ff;margin: 0.25em 0.25em;border: 1px dotted black;border-radius: 0.25em;box-sizing: border-box;}div.sk-estimator:hover {background-color: #d4ebff;}div.sk-parallel-item::after {content: \"\";width: 100%;border-bottom: 1px solid gray;flex-grow: 1;}div.sk-label:hover label.sk-toggleable__label {background-color: #d4ebff;}div.sk-serial::before {content: \"\";position: absolute;border-left: 1px solid gray;box-sizing: border-box;top: 2em;bottom: 0;left: 50%;}div.sk-serial {display: flex;flex-direction: column;align-items: center;background-color: white;}div.sk-item {z-index: 1;}div.sk-parallel {display: flex;align-items: stretch;justify-content: center;background-color: white;}div.sk-parallel-item {display: flex;flex-direction: column;position: relative;background-color: white;}div.sk-parallel-item:first-child::after {align-self: flex-end;width: 50%;}div.sk-parallel-item:last-child::after {align-self: flex-start;width: 50%;}div.sk-parallel-item:only-child::after {width: 0;}div.sk-dashed-wrapped {border: 1px dashed gray;margin: 0.2em;box-sizing: border-box;padding-bottom: 0.1em;background-color: white;position: relative;}div.sk-label label {font-family: monospace;font-weight: bold;background-color: white;display: inline-block;line-height: 1.2em;}div.sk-label-container {position: relative;z-index: 2;text-align: center;}div.sk-container {display: inline-block;position: relative;}</style><div class=\"sk-top-container\"><div class=\"sk-container\"><div class=\"sk-item sk-dashed-wrapped\"><div class=\"sk-label-container\"><div class=\"sk-label sk-toggleable\"><input class=\"sk-toggleable__control sk-hidden--visually\" id=\"69870409-3e82-4cb5-b5f4-2882ab91fe71\" type=\"checkbox\" ><label class=\"sk-toggleable__label\" for=\"69870409-3e82-4cb5-b5f4-2882ab91fe71\">Pipeline</label><div class=\"sk-toggleable__content\"><pre>Pipeline(steps=[('i', SimpleImputer(strategy='median')),\n",
       "                ('union',\n",
       "                 FeatureUnion(transformer_list=[('indicator',\n",
       "                                                 MissingIndicator()),\n",
       "                                                ('kmeans',\n",
       "                                                 KMeans(random_state=0))])),\n",
       "                ('classifier',\n",
       "                 LogisticRegression(max_iter=5000, random_state=666,\n",
       "                                    solver='liblinear'))])</pre></div></div></div><div class=\"sk-serial\"><div class=\"sk-item\"><div class=\"sk-estimator sk-toggleable\"><input class=\"sk-toggleable__control sk-hidden--visually\" id=\"7cc402cf-3414-492a-bb42-bff1eaa59016\" type=\"checkbox\" ><label class=\"sk-toggleable__label\" for=\"7cc402cf-3414-492a-bb42-bff1eaa59016\">SimpleImputer</label><div class=\"sk-toggleable__content\"><pre>SimpleImputer(strategy='median')</pre></div></div></div><div class=\"sk-item sk-dashed-wrapped\"><div class=\"sk-label-container\"><div class=\"sk-label sk-toggleable\"><input class=\"sk-toggleable__control sk-hidden--visually\" id=\"b4138434-b68c-4761-bb34-2c093a8226a7\" type=\"checkbox\" ><label class=\"sk-toggleable__label\" for=\"b4138434-b68c-4761-bb34-2c093a8226a7\">union: FeatureUnion</label><div class=\"sk-toggleable__content\"><pre>FeatureUnion(transformer_list=[('indicator', MissingIndicator()),\n",
       "                               ('kmeans', KMeans(random_state=0))])</pre></div></div></div><div class=\"sk-parallel\"><div class=\"sk-parallel-item\"><div class=\"sk-item\"><div class=\"sk-label-container\"><div class=\"sk-label sk-toggleable\"><label>indicator</label></div></div><div class=\"sk-serial\"><div class=\"sk-item\"><div class=\"sk-estimator sk-toggleable\"><input class=\"sk-toggleable__control sk-hidden--visually\" id=\"5f81a618-c154-42df-bde8-afdfe4a2811f\" type=\"checkbox\" ><label class=\"sk-toggleable__label\" for=\"5f81a618-c154-42df-bde8-afdfe4a2811f\">MissingIndicator</label><div class=\"sk-toggleable__content\"><pre>MissingIndicator()</pre></div></div></div></div></div></div><div class=\"sk-parallel-item\"><div class=\"sk-item\"><div class=\"sk-label-container\"><div class=\"sk-label sk-toggleable\"><label>kmeans</label></div></div><div class=\"sk-serial\"><div class=\"sk-item\"><div class=\"sk-estimator sk-toggleable\"><input class=\"sk-toggleable__control sk-hidden--visually\" id=\"8acc3c20-60f7-4d42-85c6-6aa258ea29e4\" type=\"checkbox\" ><label class=\"sk-toggleable__label\" for=\"8acc3c20-60f7-4d42-85c6-6aa258ea29e4\">KMeans</label><div class=\"sk-toggleable__content\"><pre>KMeans(random_state=0)</pre></div></div></div></div></div></div></div></div><div class=\"sk-item\"><div class=\"sk-estimator sk-toggleable\"><input class=\"sk-toggleable__control sk-hidden--visually\" id=\"3b812f5e-ef74-4424-8680-4ae7310d9a47\" type=\"checkbox\" ><label class=\"sk-toggleable__label\" for=\"3b812f5e-ef74-4424-8680-4ae7310d9a47\">LogisticRegression</label><div class=\"sk-toggleable__content\"><pre>LogisticRegression(max_iter=5000, random_state=666, solver='liblinear')</pre></div></div></div></div></div></div></div>"
      ],
      "text/plain": [
       "Pipeline(steps=[('i', SimpleImputer(strategy='median')),\n",
       "                ('union',\n",
       "                 FeatureUnion(transformer_list=[('indicator',\n",
       "                                                 MissingIndicator()),\n",
       "                                                ('kmeans',\n",
       "                                                 KMeans(random_state=0))])),\n",
       "                ('classifier',\n",
       "                 LogisticRegression(max_iter=5000, random_state=666,\n",
       "                                    solver='liblinear'))])"
      ]
     },
     "execution_count": 30,
     "metadata": {},
     "output_type": "execute_result"
    }
   ],
   "source": [
    "Pipelines.create_numerical_pipeline('pipe_4')"
   ]
  },
  {
   "cell_type": "code",
   "execution_count": 31,
   "metadata": {},
   "outputs": [
    {
     "data": {
      "text/html": [
       "<style>div.sk-top-container {color: black;background-color: white;}div.sk-toggleable {background-color: white;}label.sk-toggleable__label {cursor: pointer;display: block;width: 100%;margin-bottom: 0;padding: 0.2em 0.3em;box-sizing: border-box;text-align: center;}div.sk-toggleable__content {max-height: 0;max-width: 0;overflow: hidden;text-align: left;background-color: #f0f8ff;}div.sk-toggleable__content pre {margin: 0.2em;color: black;border-radius: 0.25em;background-color: #f0f8ff;}input.sk-toggleable__control:checked~div.sk-toggleable__content {max-height: 200px;max-width: 100%;overflow: auto;}div.sk-estimator input.sk-toggleable__control:checked~label.sk-toggleable__label {background-color: #d4ebff;}div.sk-label input.sk-toggleable__control:checked~label.sk-toggleable__label {background-color: #d4ebff;}input.sk-hidden--visually {border: 0;clip: rect(1px 1px 1px 1px);clip: rect(1px, 1px, 1px, 1px);height: 1px;margin: -1px;overflow: hidden;padding: 0;position: absolute;width: 1px;}div.sk-estimator {font-family: monospace;background-color: #f0f8ff;margin: 0.25em 0.25em;border: 1px dotted black;border-radius: 0.25em;box-sizing: border-box;}div.sk-estimator:hover {background-color: #d4ebff;}div.sk-parallel-item::after {content: \"\";width: 100%;border-bottom: 1px solid gray;flex-grow: 1;}div.sk-label:hover label.sk-toggleable__label {background-color: #d4ebff;}div.sk-serial::before {content: \"\";position: absolute;border-left: 1px solid gray;box-sizing: border-box;top: 2em;bottom: 0;left: 50%;}div.sk-serial {display: flex;flex-direction: column;align-items: center;background-color: white;}div.sk-item {z-index: 1;}div.sk-parallel {display: flex;align-items: stretch;justify-content: center;background-color: white;}div.sk-parallel-item {display: flex;flex-direction: column;position: relative;background-color: white;}div.sk-parallel-item:first-child::after {align-self: flex-end;width: 50%;}div.sk-parallel-item:last-child::after {align-self: flex-start;width: 50%;}div.sk-parallel-item:only-child::after {width: 0;}div.sk-dashed-wrapped {border: 1px dashed gray;margin: 0.2em;box-sizing: border-box;padding-bottom: 0.1em;background-color: white;position: relative;}div.sk-label label {font-family: monospace;font-weight: bold;background-color: white;display: inline-block;line-height: 1.2em;}div.sk-label-container {position: relative;z-index: 2;text-align: center;}div.sk-container {display: inline-block;position: relative;}</style><div class=\"sk-top-container\"><div class=\"sk-container\"><div class=\"sk-item sk-dashed-wrapped\"><div class=\"sk-label-container\"><div class=\"sk-label sk-toggleable\"><input class=\"sk-toggleable__control sk-hidden--visually\" id=\"28f5cf1a-1447-4819-967a-8c7299739646\" type=\"checkbox\" ><label class=\"sk-toggleable__label\" for=\"28f5cf1a-1447-4819-967a-8c7299739646\">Pipeline</label><div class=\"sk-toggleable__content\"><pre>Pipeline(steps=[('i', SimpleImputer(strategy='median')),\n",
       "                ('union',\n",
       "                 FeatureUnion(transformer_list=[('pca', PCA()),\n",
       "                                                ('svd', TruncatedSVD()),\n",
       "                                                ('lda',\n",
       "                                                 LatentDirichletAllocation())])),\n",
       "                ('classifier',\n",
       "                 LogisticRegression(max_iter=5000, random_state=666,\n",
       "                                    solver='liblinear'))])</pre></div></div></div><div class=\"sk-serial\"><div class=\"sk-item\"><div class=\"sk-estimator sk-toggleable\"><input class=\"sk-toggleable__control sk-hidden--visually\" id=\"21ae9766-cf4b-4bfa-8227-3e98a9501c25\" type=\"checkbox\" ><label class=\"sk-toggleable__label\" for=\"21ae9766-cf4b-4bfa-8227-3e98a9501c25\">SimpleImputer</label><div class=\"sk-toggleable__content\"><pre>SimpleImputer(strategy='median')</pre></div></div></div><div class=\"sk-item sk-dashed-wrapped\"><div class=\"sk-label-container\"><div class=\"sk-label sk-toggleable\"><input class=\"sk-toggleable__control sk-hidden--visually\" id=\"5c0641e6-78d4-480b-ae39-f2437cb7afc5\" type=\"checkbox\" ><label class=\"sk-toggleable__label\" for=\"5c0641e6-78d4-480b-ae39-f2437cb7afc5\">union: FeatureUnion</label><div class=\"sk-toggleable__content\"><pre>FeatureUnion(transformer_list=[('pca', PCA()), ('svd', TruncatedSVD()),\n",
       "                               ('lda', LatentDirichletAllocation())])</pre></div></div></div><div class=\"sk-parallel\"><div class=\"sk-parallel-item\"><div class=\"sk-item\"><div class=\"sk-label-container\"><div class=\"sk-label sk-toggleable\"><label>pca</label></div></div><div class=\"sk-serial\"><div class=\"sk-item\"><div class=\"sk-estimator sk-toggleable\"><input class=\"sk-toggleable__control sk-hidden--visually\" id=\"4d7534ff-471d-4ebc-bf36-3489c59c74c0\" type=\"checkbox\" ><label class=\"sk-toggleable__label\" for=\"4d7534ff-471d-4ebc-bf36-3489c59c74c0\">PCA</label><div class=\"sk-toggleable__content\"><pre>PCA()</pre></div></div></div></div></div></div><div class=\"sk-parallel-item\"><div class=\"sk-item\"><div class=\"sk-label-container\"><div class=\"sk-label sk-toggleable\"><label>svd</label></div></div><div class=\"sk-serial\"><div class=\"sk-item\"><div class=\"sk-estimator sk-toggleable\"><input class=\"sk-toggleable__control sk-hidden--visually\" id=\"a2506e25-9c4a-4f51-9d49-65e8fde33abe\" type=\"checkbox\" ><label class=\"sk-toggleable__label\" for=\"a2506e25-9c4a-4f51-9d49-65e8fde33abe\">TruncatedSVD</label><div class=\"sk-toggleable__content\"><pre>TruncatedSVD()</pre></div></div></div></div></div></div><div class=\"sk-parallel-item\"><div class=\"sk-item\"><div class=\"sk-label-container\"><div class=\"sk-label sk-toggleable\"><label>lda</label></div></div><div class=\"sk-serial\"><div class=\"sk-item\"><div class=\"sk-estimator sk-toggleable\"><input class=\"sk-toggleable__control sk-hidden--visually\" id=\"b25fd136-74e0-4da5-acaf-8ad749b3844e\" type=\"checkbox\" ><label class=\"sk-toggleable__label\" for=\"b25fd136-74e0-4da5-acaf-8ad749b3844e\">LatentDirichletAllocation</label><div class=\"sk-toggleable__content\"><pre>LatentDirichletAllocation()</pre></div></div></div></div></div></div></div></div><div class=\"sk-item\"><div class=\"sk-estimator sk-toggleable\"><input class=\"sk-toggleable__control sk-hidden--visually\" id=\"00c63d5d-a422-4bea-b877-7cf82e02aa14\" type=\"checkbox\" ><label class=\"sk-toggleable__label\" for=\"00c63d5d-a422-4bea-b877-7cf82e02aa14\">LogisticRegression</label><div class=\"sk-toggleable__content\"><pre>LogisticRegression(max_iter=5000, random_state=666, solver='liblinear')</pre></div></div></div></div></div></div></div>"
      ],
      "text/plain": [
       "Pipeline(steps=[('i', SimpleImputer(strategy='median')),\n",
       "                ('union',\n",
       "                 FeatureUnion(transformer_list=[('pca', PCA()),\n",
       "                                                ('svd', TruncatedSVD()),\n",
       "                                                ('lda',\n",
       "                                                 LatentDirichletAllocation())])),\n",
       "                ('classifier',\n",
       "                 LogisticRegression(max_iter=5000, random_state=666,\n",
       "                                    solver='liblinear'))])"
      ]
     },
     "execution_count": 31,
     "metadata": {},
     "output_type": "execute_result"
    }
   ],
   "source": [
    "Pipelines.create_numerical_pipeline('pipe_5')"
   ]
  },
  {
   "cell_type": "code",
   "execution_count": 35,
   "metadata": {},
   "outputs": [
    {
     "data": {
      "text/html": [
       "<style>div.sk-top-container {color: black;background-color: white;}div.sk-toggleable {background-color: white;}label.sk-toggleable__label {cursor: pointer;display: block;width: 100%;margin-bottom: 0;padding: 0.2em 0.3em;box-sizing: border-box;text-align: center;}div.sk-toggleable__content {max-height: 0;max-width: 0;overflow: hidden;text-align: left;background-color: #f0f8ff;}div.sk-toggleable__content pre {margin: 0.2em;color: black;border-radius: 0.25em;background-color: #f0f8ff;}input.sk-toggleable__control:checked~div.sk-toggleable__content {max-height: 200px;max-width: 100%;overflow: auto;}div.sk-estimator input.sk-toggleable__control:checked~label.sk-toggleable__label {background-color: #d4ebff;}div.sk-label input.sk-toggleable__control:checked~label.sk-toggleable__label {background-color: #d4ebff;}input.sk-hidden--visually {border: 0;clip: rect(1px 1px 1px 1px);clip: rect(1px, 1px, 1px, 1px);height: 1px;margin: -1px;overflow: hidden;padding: 0;position: absolute;width: 1px;}div.sk-estimator {font-family: monospace;background-color: #f0f8ff;margin: 0.25em 0.25em;border: 1px dotted black;border-radius: 0.25em;box-sizing: border-box;}div.sk-estimator:hover {background-color: #d4ebff;}div.sk-parallel-item::after {content: \"\";width: 100%;border-bottom: 1px solid gray;flex-grow: 1;}div.sk-label:hover label.sk-toggleable__label {background-color: #d4ebff;}div.sk-serial::before {content: \"\";position: absolute;border-left: 1px solid gray;box-sizing: border-box;top: 2em;bottom: 0;left: 50%;}div.sk-serial {display: flex;flex-direction: column;align-items: center;background-color: white;}div.sk-item {z-index: 1;}div.sk-parallel {display: flex;align-items: stretch;justify-content: center;background-color: white;}div.sk-parallel-item {display: flex;flex-direction: column;position: relative;background-color: white;}div.sk-parallel-item:first-child::after {align-self: flex-end;width: 50%;}div.sk-parallel-item:last-child::after {align-self: flex-start;width: 50%;}div.sk-parallel-item:only-child::after {width: 0;}div.sk-dashed-wrapped {border: 1px dashed gray;margin: 0.2em;box-sizing: border-box;padding-bottom: 0.1em;background-color: white;position: relative;}div.sk-label label {font-family: monospace;font-weight: bold;background-color: white;display: inline-block;line-height: 1.2em;}div.sk-label-container {position: relative;z-index: 2;text-align: center;}div.sk-container {display: inline-block;position: relative;}</style><div class=\"sk-top-container\"><div class=\"sk-container\"><div class=\"sk-item sk-dashed-wrapped\"><div class=\"sk-label-container\"><div class=\"sk-label sk-toggleable\"><input class=\"sk-toggleable__control sk-hidden--visually\" id=\"fe6f9a3a-b68e-4e2a-bbfd-21761cf3e3a2\" type=\"checkbox\" ><label class=\"sk-toggleable__label\" for=\"fe6f9a3a-b68e-4e2a-bbfd-21761cf3e3a2\">Pipeline</label><div class=\"sk-toggleable__content\"><pre>Pipeline(steps=[('i', SimpleImputer(strategy='median')),\n",
       "                ('grayify', RGB2GrayTransformer()),\n",
       "                ('blur',\n",
       "                 FunctionTransformer(func=<function get_pipe_ops.<locals>.gaussian_blur at 0x7fac07b4ae60>)),\n",
       "                ('classifier',\n",
       "                 LogisticRegression(max_iter=5000, random_state=666,\n",
       "                                    solver='liblinear'))])</pre></div></div></div><div class=\"sk-serial\"><div class=\"sk-item\"><div class=\"sk-estimator sk-toggleable\"><input class=\"sk-toggleable__control sk-hidden--visually\" id=\"94adb2d5-8d19-4502-963e-2038ddff0134\" type=\"checkbox\" ><label class=\"sk-toggleable__label\" for=\"94adb2d5-8d19-4502-963e-2038ddff0134\">SimpleImputer</label><div class=\"sk-toggleable__content\"><pre>SimpleImputer(strategy='median')</pre></div></div></div><div class=\"sk-item\"><div class=\"sk-estimator sk-toggleable\"><input class=\"sk-toggleable__control sk-hidden--visually\" id=\"4e405828-f807-40f6-a050-82391f748fc4\" type=\"checkbox\" ><label class=\"sk-toggleable__label\" for=\"4e405828-f807-40f6-a050-82391f748fc4\">RGB2GrayTransformer</label><div class=\"sk-toggleable__content\"><pre>RGB2GrayTransformer()</pre></div></div></div><div class=\"sk-item\"><div class=\"sk-estimator sk-toggleable\"><input class=\"sk-toggleable__control sk-hidden--visually\" id=\"186f4265-a107-4b4d-b96e-98795fc27bba\" type=\"checkbox\" ><label class=\"sk-toggleable__label\" for=\"186f4265-a107-4b4d-b96e-98795fc27bba\">FunctionTransformer</label><div class=\"sk-toggleable__content\"><pre>FunctionTransformer(func=<function get_pipe_ops.<locals>.gaussian_blur at 0x7fac07b4ae60>)</pre></div></div></div><div class=\"sk-item\"><div class=\"sk-estimator sk-toggleable\"><input class=\"sk-toggleable__control sk-hidden--visually\" id=\"2a3b3153-bafe-485c-a0fe-f563cba2e6da\" type=\"checkbox\" ><label class=\"sk-toggleable__label\" for=\"2a3b3153-bafe-485c-a0fe-f563cba2e6da\">LogisticRegression</label><div class=\"sk-toggleable__content\"><pre>LogisticRegression(max_iter=5000, random_state=666, solver='liblinear')</pre></div></div></div></div></div></div></div>"
      ],
      "text/plain": [
       "Pipeline(steps=[('i', SimpleImputer(strategy='median')),\n",
       "                ('grayify', RGB2GrayTransformer()),\n",
       "                ('blur',\n",
       "                 FunctionTransformer(func=<function get_pipe_ops.<locals>.gaussian_blur at 0x7fac07b4ae60>)),\n",
       "                ('classifier',\n",
       "                 LogisticRegression(max_iter=5000, random_state=666,\n",
       "                                    solver='liblinear'))])"
      ]
     },
     "execution_count": 35,
     "metadata": {},
     "output_type": "execute_result"
    }
   ],
   "source": [
    "Pipelines.create_numerical_pipeline('pipe_6')"
   ]
  },
  {
   "cell_type": "code",
   "execution_count": 34,
   "metadata": {},
   "outputs": [
    {
     "data": {
      "text/html": [
       "<style>div.sk-top-container {color: black;background-color: white;}div.sk-toggleable {background-color: white;}label.sk-toggleable__label {cursor: pointer;display: block;width: 100%;margin-bottom: 0;padding: 0.2em 0.3em;box-sizing: border-box;text-align: center;}div.sk-toggleable__content {max-height: 0;max-width: 0;overflow: hidden;text-align: left;background-color: #f0f8ff;}div.sk-toggleable__content pre {margin: 0.2em;color: black;border-radius: 0.25em;background-color: #f0f8ff;}input.sk-toggleable__control:checked~div.sk-toggleable__content {max-height: 200px;max-width: 100%;overflow: auto;}div.sk-estimator input.sk-toggleable__control:checked~label.sk-toggleable__label {background-color: #d4ebff;}div.sk-label input.sk-toggleable__control:checked~label.sk-toggleable__label {background-color: #d4ebff;}input.sk-hidden--visually {border: 0;clip: rect(1px 1px 1px 1px);clip: rect(1px, 1px, 1px, 1px);height: 1px;margin: -1px;overflow: hidden;padding: 0;position: absolute;width: 1px;}div.sk-estimator {font-family: monospace;background-color: #f0f8ff;margin: 0.25em 0.25em;border: 1px dotted black;border-radius: 0.25em;box-sizing: border-box;}div.sk-estimator:hover {background-color: #d4ebff;}div.sk-parallel-item::after {content: \"\";width: 100%;border-bottom: 1px solid gray;flex-grow: 1;}div.sk-label:hover label.sk-toggleable__label {background-color: #d4ebff;}div.sk-serial::before {content: \"\";position: absolute;border-left: 1px solid gray;box-sizing: border-box;top: 2em;bottom: 0;left: 50%;}div.sk-serial {display: flex;flex-direction: column;align-items: center;background-color: white;}div.sk-item {z-index: 1;}div.sk-parallel {display: flex;align-items: stretch;justify-content: center;background-color: white;}div.sk-parallel-item {display: flex;flex-direction: column;position: relative;background-color: white;}div.sk-parallel-item:first-child::after {align-self: flex-end;width: 50%;}div.sk-parallel-item:last-child::after {align-self: flex-start;width: 50%;}div.sk-parallel-item:only-child::after {width: 0;}div.sk-dashed-wrapped {border: 1px dashed gray;margin: 0.2em;box-sizing: border-box;padding-bottom: 0.1em;background-color: white;position: relative;}div.sk-label label {font-family: monospace;font-weight: bold;background-color: white;display: inline-block;line-height: 1.2em;}div.sk-label-container {position: relative;z-index: 2;text-align: center;}div.sk-container {display: inline-block;position: relative;}</style><div class=\"sk-top-container\"><div class=\"sk-container\"><div class=\"sk-item sk-dashed-wrapped\"><div class=\"sk-label-container\"><div class=\"sk-label sk-toggleable\"><input class=\"sk-toggleable__control sk-hidden--visually\" id=\"0101080c-112b-4322-9bf2-a99862c364e8\" type=\"checkbox\" ><label class=\"sk-toggleable__label\" for=\"0101080c-112b-4322-9bf2-a99862c364e8\">Pipeline</label><div class=\"sk-toggleable__content\"><pre>Pipeline(steps=[('i', SimpleImputer(strategy='median')),\n",
       "                ('grayify', RGB2GrayTransformer()),\n",
       "                ('hogify',\n",
       "                 HogTransformer(cells_per_block=(2, 2),\n",
       "                                pixels_per_cell=(4, 4))),\n",
       "                ('classifier',\n",
       "                 LogisticRegression(max_iter=5000, random_state=666,\n",
       "                                    solver='liblinear'))])</pre></div></div></div><div class=\"sk-serial\"><div class=\"sk-item\"><div class=\"sk-estimator sk-toggleable\"><input class=\"sk-toggleable__control sk-hidden--visually\" id=\"08a414e4-f538-487e-b53b-965a0ee20f0a\" type=\"checkbox\" ><label class=\"sk-toggleable__label\" for=\"08a414e4-f538-487e-b53b-965a0ee20f0a\">SimpleImputer</label><div class=\"sk-toggleable__content\"><pre>SimpleImputer(strategy='median')</pre></div></div></div><div class=\"sk-item\"><div class=\"sk-estimator sk-toggleable\"><input class=\"sk-toggleable__control sk-hidden--visually\" id=\"effcd9cb-6380-49cd-adff-a661a928ebef\" type=\"checkbox\" ><label class=\"sk-toggleable__label\" for=\"effcd9cb-6380-49cd-adff-a661a928ebef\">RGB2GrayTransformer</label><div class=\"sk-toggleable__content\"><pre>RGB2GrayTransformer()</pre></div></div></div><div class=\"sk-item\"><div class=\"sk-estimator sk-toggleable\"><input class=\"sk-toggleable__control sk-hidden--visually\" id=\"b22d3030-750c-4f68-86c3-faec7db9e49f\" type=\"checkbox\" ><label class=\"sk-toggleable__label\" for=\"b22d3030-750c-4f68-86c3-faec7db9e49f\">HogTransformer</label><div class=\"sk-toggleable__content\"><pre>HogTransformer(cells_per_block=(2, 2), pixels_per_cell=(4, 4))</pre></div></div></div><div class=\"sk-item\"><div class=\"sk-estimator sk-toggleable\"><input class=\"sk-toggleable__control sk-hidden--visually\" id=\"728eadde-15fa-4d56-b120-3ed9eb54ddd6\" type=\"checkbox\" ><label class=\"sk-toggleable__label\" for=\"728eadde-15fa-4d56-b120-3ed9eb54ddd6\">LogisticRegression</label><div class=\"sk-toggleable__content\"><pre>LogisticRegression(max_iter=5000, random_state=666, solver='liblinear')</pre></div></div></div></div></div></div></div>"
      ],
      "text/plain": [
       "Pipeline(steps=[('i', SimpleImputer(strategy='median')),\n",
       "                ('grayify', RGB2GrayTransformer()),\n",
       "                ('hogify',\n",
       "                 HogTransformer(cells_per_block=(2, 2),\n",
       "                                pixels_per_cell=(4, 4))),\n",
       "                ('classifier',\n",
       "                 LogisticRegression(max_iter=5000, random_state=666,\n",
       "                                    solver='liblinear'))])"
      ]
     },
     "execution_count": 34,
     "metadata": {},
     "output_type": "execute_result"
    }
   ],
   "source": [
    "Pipelines.create_numerical_pipeline('pipe_7')"
   ]
  },
  {
   "cell_type": "markdown",
   "metadata": {},
   "source": [
    "## Tabular Pipelines"
   ]
  },
  {
   "cell_type": "code",
   "execution_count": 48,
   "metadata": {},
   "outputs": [
    {
     "data": {
      "text/html": [
       "<style>div.sk-top-container {color: black;background-color: white;}div.sk-toggleable {background-color: white;}label.sk-toggleable__label {cursor: pointer;display: block;width: 100%;margin-bottom: 0;padding: 0.2em 0.3em;box-sizing: border-box;text-align: center;}div.sk-toggleable__content {max-height: 0;max-width: 0;overflow: hidden;text-align: left;background-color: #f0f8ff;}div.sk-toggleable__content pre {margin: 0.2em;color: black;border-radius: 0.25em;background-color: #f0f8ff;}input.sk-toggleable__control:checked~div.sk-toggleable__content {max-height: 200px;max-width: 100%;overflow: auto;}div.sk-estimator input.sk-toggleable__control:checked~label.sk-toggleable__label {background-color: #d4ebff;}div.sk-label input.sk-toggleable__control:checked~label.sk-toggleable__label {background-color: #d4ebff;}input.sk-hidden--visually {border: 0;clip: rect(1px 1px 1px 1px);clip: rect(1px, 1px, 1px, 1px);height: 1px;margin: -1px;overflow: hidden;padding: 0;position: absolute;width: 1px;}div.sk-estimator {font-family: monospace;background-color: #f0f8ff;margin: 0.25em 0.25em;border: 1px dotted black;border-radius: 0.25em;box-sizing: border-box;}div.sk-estimator:hover {background-color: #d4ebff;}div.sk-parallel-item::after {content: \"\";width: 100%;border-bottom: 1px solid gray;flex-grow: 1;}div.sk-label:hover label.sk-toggleable__label {background-color: #d4ebff;}div.sk-serial::before {content: \"\";position: absolute;border-left: 1px solid gray;box-sizing: border-box;top: 2em;bottom: 0;left: 50%;}div.sk-serial {display: flex;flex-direction: column;align-items: center;background-color: white;}div.sk-item {z-index: 1;}div.sk-parallel {display: flex;align-items: stretch;justify-content: center;background-color: white;}div.sk-parallel-item {display: flex;flex-direction: column;position: relative;background-color: white;}div.sk-parallel-item:first-child::after {align-self: flex-end;width: 50%;}div.sk-parallel-item:last-child::after {align-self: flex-start;width: 50%;}div.sk-parallel-item:only-child::after {width: 0;}div.sk-dashed-wrapped {border: 1px dashed gray;margin: 0.2em;box-sizing: border-box;padding-bottom: 0.1em;background-color: white;position: relative;}div.sk-label label {font-family: monospace;font-weight: bold;background-color: white;display: inline-block;line-height: 1.2em;}div.sk-label-container {position: relative;z-index: 2;text-align: center;}div.sk-container {display: inline-block;position: relative;}</style><div class=\"sk-top-container\"><div class=\"sk-container\"><div class=\"sk-item sk-dashed-wrapped\"><div class=\"sk-label-container\"><div class=\"sk-label sk-toggleable\"><input class=\"sk-toggleable__control sk-hidden--visually\" id=\"a4b24d78-0e8e-4473-999c-5ec25f2ae94d\" type=\"checkbox\" ><label class=\"sk-toggleable__label\" for=\"a4b24d78-0e8e-4473-999c-5ec25f2ae94d\">Pipeline</label><div class=\"sk-toggleable__content\"><pre>Pipeline(steps=[('col_t',\n",
       "                 ColumnTransformer(transformers=[('cat',\n",
       "                                                  Pipeline(steps=[('i',\n",
       "                                                                   SimpleImputer(fill_value='missing',\n",
       "                                                                                 strategy='constant')),\n",
       "                                                                  ('encoder',\n",
       "                                                                   OneHotEncoder(handle_unknown='ignore',\n",
       "                                                                                 sparse=False))]),\n",
       "                                                  [0]),\n",
       "                                                 ('num',\n",
       "                                                  Pipeline(steps=[('identity',\n",
       "                                                                   FunctionTransformer(func=<function get_pipe_ops.<locals>.identity at 0x7fac07b4ab00>))]),\n",
       "                                                  [1, 2, 3])])),\n",
       "                ('classifier',\n",
       "                 LogisticRegression(max_iter=5000, random_state=666,\n",
       "                                    solver='liblinear'))])</pre></div></div></div><div class=\"sk-serial\"><div class=\"sk-item sk-dashed-wrapped\"><div class=\"sk-label-container\"><div class=\"sk-label sk-toggleable\"><input class=\"sk-toggleable__control sk-hidden--visually\" id=\"35f81114-f865-47a6-8b7a-7aba4a6c2913\" type=\"checkbox\" ><label class=\"sk-toggleable__label\" for=\"35f81114-f865-47a6-8b7a-7aba4a6c2913\">col_t: ColumnTransformer</label><div class=\"sk-toggleable__content\"><pre>ColumnTransformer(transformers=[('cat',\n",
       "                                 Pipeline(steps=[('i',\n",
       "                                                  SimpleImputer(fill_value='missing',\n",
       "                                                                strategy='constant')),\n",
       "                                                 ('encoder',\n",
       "                                                  OneHotEncoder(handle_unknown='ignore',\n",
       "                                                                sparse=False))]),\n",
       "                                 [0]),\n",
       "                                ('num',\n",
       "                                 Pipeline(steps=[('identity',\n",
       "                                                  FunctionTransformer(func=<function get_pipe_ops.<locals>.identity at 0x7fac07b4ab00>))]),\n",
       "                                 [1, 2, 3])])</pre></div></div></div><div class=\"sk-parallel\"><div class=\"sk-parallel-item\"><div class=\"sk-item\"><div class=\"sk-label-container\"><div class=\"sk-label sk-toggleable\"><input class=\"sk-toggleable__control sk-hidden--visually\" id=\"8ee0cd1b-8ff0-483c-a6f9-6dd7a10f9eae\" type=\"checkbox\" ><label class=\"sk-toggleable__label\" for=\"8ee0cd1b-8ff0-483c-a6f9-6dd7a10f9eae\">cat</label><div class=\"sk-toggleable__content\"><pre>[0]</pre></div></div></div><div class=\"sk-serial\"><div class=\"sk-item\"><div class=\"sk-serial\"><div class=\"sk-item\"><div class=\"sk-estimator sk-toggleable\"><input class=\"sk-toggleable__control sk-hidden--visually\" id=\"ad641a3d-fe75-4dd0-93bc-02cda923f901\" type=\"checkbox\" ><label class=\"sk-toggleable__label\" for=\"ad641a3d-fe75-4dd0-93bc-02cda923f901\">SimpleImputer</label><div class=\"sk-toggleable__content\"><pre>SimpleImputer(fill_value='missing', strategy='constant')</pre></div></div></div><div class=\"sk-item\"><div class=\"sk-estimator sk-toggleable\"><input class=\"sk-toggleable__control sk-hidden--visually\" id=\"c6098a82-b566-43f0-848f-f70da16c2256\" type=\"checkbox\" ><label class=\"sk-toggleable__label\" for=\"c6098a82-b566-43f0-848f-f70da16c2256\">OneHotEncoder</label><div class=\"sk-toggleable__content\"><pre>OneHotEncoder(handle_unknown='ignore', sparse=False)</pre></div></div></div></div></div></div></div></div><div class=\"sk-parallel-item\"><div class=\"sk-item\"><div class=\"sk-label-container\"><div class=\"sk-label sk-toggleable\"><input class=\"sk-toggleable__control sk-hidden--visually\" id=\"0f21f3e2-4688-46d0-b66a-561f2e0f2bdf\" type=\"checkbox\" ><label class=\"sk-toggleable__label\" for=\"0f21f3e2-4688-46d0-b66a-561f2e0f2bdf\">num</label><div class=\"sk-toggleable__content\"><pre>[1, 2, 3]</pre></div></div></div><div class=\"sk-serial\"><div class=\"sk-item\"><div class=\"sk-serial\"><div class=\"sk-item\"><div class=\"sk-estimator sk-toggleable\"><input class=\"sk-toggleable__control sk-hidden--visually\" id=\"e8ad42ee-bd34-482d-a011-e9928bede27f\" type=\"checkbox\" ><label class=\"sk-toggleable__label\" for=\"e8ad42ee-bd34-482d-a011-e9928bede27f\">FunctionTransformer</label><div class=\"sk-toggleable__content\"><pre>FunctionTransformer(func=<function get_pipe_ops.<locals>.identity at 0x7fac07b4ab00>)</pre></div></div></div></div></div></div></div></div></div></div><div class=\"sk-item\"><div class=\"sk-estimator sk-toggleable\"><input class=\"sk-toggleable__control sk-hidden--visually\" id=\"7910bc1d-ee90-461a-91ad-81748fe9e668\" type=\"checkbox\" ><label class=\"sk-toggleable__label\" for=\"7910bc1d-ee90-461a-91ad-81748fe9e668\">LogisticRegression</label><div class=\"sk-toggleable__content\"><pre>LogisticRegression(max_iter=5000, random_state=666, solver='liblinear')</pre></div></div></div></div></div></div></div>"
      ],
      "text/plain": [
       "Pipeline(steps=[('col_t',\n",
       "                 ColumnTransformer(transformers=[('cat',\n",
       "                                                  Pipeline(steps=[('i',\n",
       "                                                                   SimpleImputer(fill_value='missing',\n",
       "                                                                                 strategy='constant')),\n",
       "                                                                  ('encoder',\n",
       "                                                                   OneHotEncoder(handle_unknown='ignore',\n",
       "                                                                                 sparse=False))]),\n",
       "                                                  [0]),\n",
       "                                                 ('num',\n",
       "                                                  Pipeline(steps=[('identity',\n",
       "                                                                   FunctionTransformer(func=<function get_pipe_ops.<locals>.identity at 0x7fac07b4ab00>))]),\n",
       "                                                  [1, 2, 3])])),\n",
       "                ('classifier',\n",
       "                 LogisticRegression(max_iter=5000, random_state=666,\n",
       "                                    solver='liblinear'))])"
      ]
     },
     "execution_count": 48,
     "metadata": {},
     "output_type": "execute_result"
    }
   ],
   "source": [
    "Pipelines.create_tabular_pipeline('pipe_0', imputer=False)"
   ]
  },
  {
   "cell_type": "code",
   "execution_count": 49,
   "metadata": {},
   "outputs": [
    {
     "data": {
      "text/html": [
       "<style>div.sk-top-container {color: black;background-color: white;}div.sk-toggleable {background-color: white;}label.sk-toggleable__label {cursor: pointer;display: block;width: 100%;margin-bottom: 0;padding: 0.2em 0.3em;box-sizing: border-box;text-align: center;}div.sk-toggleable__content {max-height: 0;max-width: 0;overflow: hidden;text-align: left;background-color: #f0f8ff;}div.sk-toggleable__content pre {margin: 0.2em;color: black;border-radius: 0.25em;background-color: #f0f8ff;}input.sk-toggleable__control:checked~div.sk-toggleable__content {max-height: 200px;max-width: 100%;overflow: auto;}div.sk-estimator input.sk-toggleable__control:checked~label.sk-toggleable__label {background-color: #d4ebff;}div.sk-label input.sk-toggleable__control:checked~label.sk-toggleable__label {background-color: #d4ebff;}input.sk-hidden--visually {border: 0;clip: rect(1px 1px 1px 1px);clip: rect(1px, 1px, 1px, 1px);height: 1px;margin: -1px;overflow: hidden;padding: 0;position: absolute;width: 1px;}div.sk-estimator {font-family: monospace;background-color: #f0f8ff;margin: 0.25em 0.25em;border: 1px dotted black;border-radius: 0.25em;box-sizing: border-box;}div.sk-estimator:hover {background-color: #d4ebff;}div.sk-parallel-item::after {content: \"\";width: 100%;border-bottom: 1px solid gray;flex-grow: 1;}div.sk-label:hover label.sk-toggleable__label {background-color: #d4ebff;}div.sk-serial::before {content: \"\";position: absolute;border-left: 1px solid gray;box-sizing: border-box;top: 2em;bottom: 0;left: 50%;}div.sk-serial {display: flex;flex-direction: column;align-items: center;background-color: white;}div.sk-item {z-index: 1;}div.sk-parallel {display: flex;align-items: stretch;justify-content: center;background-color: white;}div.sk-parallel-item {display: flex;flex-direction: column;position: relative;background-color: white;}div.sk-parallel-item:first-child::after {align-self: flex-end;width: 50%;}div.sk-parallel-item:last-child::after {align-self: flex-start;width: 50%;}div.sk-parallel-item:only-child::after {width: 0;}div.sk-dashed-wrapped {border: 1px dashed gray;margin: 0.2em;box-sizing: border-box;padding-bottom: 0.1em;background-color: white;position: relative;}div.sk-label label {font-family: monospace;font-weight: bold;background-color: white;display: inline-block;line-height: 1.2em;}div.sk-label-container {position: relative;z-index: 2;text-align: center;}div.sk-container {display: inline-block;position: relative;}</style><div class=\"sk-top-container\"><div class=\"sk-container\"><div class=\"sk-item sk-dashed-wrapped\"><div class=\"sk-label-container\"><div class=\"sk-label sk-toggleable\"><input class=\"sk-toggleable__control sk-hidden--visually\" id=\"5c1d6cf2-754b-4ce3-b407-138ab8022c36\" type=\"checkbox\" ><label class=\"sk-toggleable__label\" for=\"5c1d6cf2-754b-4ce3-b407-138ab8022c36\">Pipeline</label><div class=\"sk-toggleable__content\"><pre>Pipeline(steps=[('col_t',\n",
       "                 ColumnTransformer(transformers=[('cat',\n",
       "                                                  Pipeline(steps=[('i',\n",
       "                                                                   SimpleImputer(fill_value='missing',\n",
       "                                                                                 strategy='constant')),\n",
       "                                                                  ('encoder',\n",
       "                                                                   OneHotEncoder(handle_unknown='ignore',\n",
       "                                                                                 sparse=False))]),\n",
       "                                                  [0]),\n",
       "                                                 ('num',\n",
       "                                                  Pipeline(steps=[('i',\n",
       "                                                                   SimpleImputer(strategy='median')),\n",
       "                                                                  ('scaler',\n",
       "                                                                   StandardScaler())]),\n",
       "                                                  [1, 2, 3])])),\n",
       "                ('classifier',\n",
       "                 LogisticRegression(max_iter=5000, random_state=666,\n",
       "                                    solver='liblinear'))])</pre></div></div></div><div class=\"sk-serial\"><div class=\"sk-item sk-dashed-wrapped\"><div class=\"sk-label-container\"><div class=\"sk-label sk-toggleable\"><input class=\"sk-toggleable__control sk-hidden--visually\" id=\"50404589-7eb1-44ed-b30c-7cc2390cf540\" type=\"checkbox\" ><label class=\"sk-toggleable__label\" for=\"50404589-7eb1-44ed-b30c-7cc2390cf540\">col_t: ColumnTransformer</label><div class=\"sk-toggleable__content\"><pre>ColumnTransformer(transformers=[('cat',\n",
       "                                 Pipeline(steps=[('i',\n",
       "                                                  SimpleImputer(fill_value='missing',\n",
       "                                                                strategy='constant')),\n",
       "                                                 ('encoder',\n",
       "                                                  OneHotEncoder(handle_unknown='ignore',\n",
       "                                                                sparse=False))]),\n",
       "                                 [0]),\n",
       "                                ('num',\n",
       "                                 Pipeline(steps=[('i',\n",
       "                                                  SimpleImputer(strategy='median')),\n",
       "                                                 ('scaler', StandardScaler())]),\n",
       "                                 [1, 2, 3])])</pre></div></div></div><div class=\"sk-parallel\"><div class=\"sk-parallel-item\"><div class=\"sk-item\"><div class=\"sk-label-container\"><div class=\"sk-label sk-toggleable\"><input class=\"sk-toggleable__control sk-hidden--visually\" id=\"f6472f85-3e3e-4039-81a8-f5a0fe7b3766\" type=\"checkbox\" ><label class=\"sk-toggleable__label\" for=\"f6472f85-3e3e-4039-81a8-f5a0fe7b3766\">cat</label><div class=\"sk-toggleable__content\"><pre>[0]</pre></div></div></div><div class=\"sk-serial\"><div class=\"sk-item\"><div class=\"sk-serial\"><div class=\"sk-item\"><div class=\"sk-estimator sk-toggleable\"><input class=\"sk-toggleable__control sk-hidden--visually\" id=\"128c628a-aebb-493d-8997-9680e87865f5\" type=\"checkbox\" ><label class=\"sk-toggleable__label\" for=\"128c628a-aebb-493d-8997-9680e87865f5\">SimpleImputer</label><div class=\"sk-toggleable__content\"><pre>SimpleImputer(fill_value='missing', strategy='constant')</pre></div></div></div><div class=\"sk-item\"><div class=\"sk-estimator sk-toggleable\"><input class=\"sk-toggleable__control sk-hidden--visually\" id=\"8217cc81-3c1c-4d46-a21f-bf0798a2e34d\" type=\"checkbox\" ><label class=\"sk-toggleable__label\" for=\"8217cc81-3c1c-4d46-a21f-bf0798a2e34d\">OneHotEncoder</label><div class=\"sk-toggleable__content\"><pre>OneHotEncoder(handle_unknown='ignore', sparse=False)</pre></div></div></div></div></div></div></div></div><div class=\"sk-parallel-item\"><div class=\"sk-item\"><div class=\"sk-label-container\"><div class=\"sk-label sk-toggleable\"><input class=\"sk-toggleable__control sk-hidden--visually\" id=\"d64e3f2b-0a70-431f-9e84-ba90d5e0de58\" type=\"checkbox\" ><label class=\"sk-toggleable__label\" for=\"d64e3f2b-0a70-431f-9e84-ba90d5e0de58\">num</label><div class=\"sk-toggleable__content\"><pre>[1, 2, 3]</pre></div></div></div><div class=\"sk-serial\"><div class=\"sk-item\"><div class=\"sk-serial\"><div class=\"sk-item\"><div class=\"sk-estimator sk-toggleable\"><input class=\"sk-toggleable__control sk-hidden--visually\" id=\"3c0fd991-53a3-476b-a9bf-f9b4e0b24fc6\" type=\"checkbox\" ><label class=\"sk-toggleable__label\" for=\"3c0fd991-53a3-476b-a9bf-f9b4e0b24fc6\">SimpleImputer</label><div class=\"sk-toggleable__content\"><pre>SimpleImputer(strategy='median')</pre></div></div></div><div class=\"sk-item\"><div class=\"sk-estimator sk-toggleable\"><input class=\"sk-toggleable__control sk-hidden--visually\" id=\"9b647741-a65e-4cea-b85f-6c60945c14f2\" type=\"checkbox\" ><label class=\"sk-toggleable__label\" for=\"9b647741-a65e-4cea-b85f-6c60945c14f2\">StandardScaler</label><div class=\"sk-toggleable__content\"><pre>StandardScaler()</pre></div></div></div></div></div></div></div></div></div></div><div class=\"sk-item\"><div class=\"sk-estimator sk-toggleable\"><input class=\"sk-toggleable__control sk-hidden--visually\" id=\"9f454445-ea9e-4394-b420-c484a5ff23ba\" type=\"checkbox\" ><label class=\"sk-toggleable__label\" for=\"9f454445-ea9e-4394-b420-c484a5ff23ba\">LogisticRegression</label><div class=\"sk-toggleable__content\"><pre>LogisticRegression(max_iter=5000, random_state=666, solver='liblinear')</pre></div></div></div></div></div></div></div>"
      ],
      "text/plain": [
       "Pipeline(steps=[('col_t',\n",
       "                 ColumnTransformer(transformers=[('cat',\n",
       "                                                  Pipeline(steps=[('i',\n",
       "                                                                   SimpleImputer(fill_value='missing',\n",
       "                                                                                 strategy='constant')),\n",
       "                                                                  ('encoder',\n",
       "                                                                   OneHotEncoder(handle_unknown='ignore',\n",
       "                                                                                 sparse=False))]),\n",
       "                                                  [0]),\n",
       "                                                 ('num',\n",
       "                                                  Pipeline(steps=[('i',\n",
       "                                                                   SimpleImputer(strategy='median')),\n",
       "                                                                  ('scaler',\n",
       "                                                                   StandardScaler())]),\n",
       "                                                  [1, 2, 3])])),\n",
       "                ('classifier',\n",
       "                 LogisticRegression(max_iter=5000, random_state=666,\n",
       "                                    solver='liblinear'))])"
      ]
     },
     "execution_count": 49,
     "metadata": {},
     "output_type": "execute_result"
    }
   ],
   "source": [
    "Pipelines.create_tabular_pipeline('pipe_1')"
   ]
  },
  {
   "cell_type": "code",
   "execution_count": 50,
   "metadata": {},
   "outputs": [
    {
     "data": {
      "text/html": [
       "<style>div.sk-top-container {color: black;background-color: white;}div.sk-toggleable {background-color: white;}label.sk-toggleable__label {cursor: pointer;display: block;width: 100%;margin-bottom: 0;padding: 0.2em 0.3em;box-sizing: border-box;text-align: center;}div.sk-toggleable__content {max-height: 0;max-width: 0;overflow: hidden;text-align: left;background-color: #f0f8ff;}div.sk-toggleable__content pre {margin: 0.2em;color: black;border-radius: 0.25em;background-color: #f0f8ff;}input.sk-toggleable__control:checked~div.sk-toggleable__content {max-height: 200px;max-width: 100%;overflow: auto;}div.sk-estimator input.sk-toggleable__control:checked~label.sk-toggleable__label {background-color: #d4ebff;}div.sk-label input.sk-toggleable__control:checked~label.sk-toggleable__label {background-color: #d4ebff;}input.sk-hidden--visually {border: 0;clip: rect(1px 1px 1px 1px);clip: rect(1px, 1px, 1px, 1px);height: 1px;margin: -1px;overflow: hidden;padding: 0;position: absolute;width: 1px;}div.sk-estimator {font-family: monospace;background-color: #f0f8ff;margin: 0.25em 0.25em;border: 1px dotted black;border-radius: 0.25em;box-sizing: border-box;}div.sk-estimator:hover {background-color: #d4ebff;}div.sk-parallel-item::after {content: \"\";width: 100%;border-bottom: 1px solid gray;flex-grow: 1;}div.sk-label:hover label.sk-toggleable__label {background-color: #d4ebff;}div.sk-serial::before {content: \"\";position: absolute;border-left: 1px solid gray;box-sizing: border-box;top: 2em;bottom: 0;left: 50%;}div.sk-serial {display: flex;flex-direction: column;align-items: center;background-color: white;}div.sk-item {z-index: 1;}div.sk-parallel {display: flex;align-items: stretch;justify-content: center;background-color: white;}div.sk-parallel-item {display: flex;flex-direction: column;position: relative;background-color: white;}div.sk-parallel-item:first-child::after {align-self: flex-end;width: 50%;}div.sk-parallel-item:last-child::after {align-self: flex-start;width: 50%;}div.sk-parallel-item:only-child::after {width: 0;}div.sk-dashed-wrapped {border: 1px dashed gray;margin: 0.2em;box-sizing: border-box;padding-bottom: 0.1em;background-color: white;position: relative;}div.sk-label label {font-family: monospace;font-weight: bold;background-color: white;display: inline-block;line-height: 1.2em;}div.sk-label-container {position: relative;z-index: 2;text-align: center;}div.sk-container {display: inline-block;position: relative;}</style><div class=\"sk-top-container\"><div class=\"sk-container\"><div class=\"sk-item sk-dashed-wrapped\"><div class=\"sk-label-container\"><div class=\"sk-label sk-toggleable\"><input class=\"sk-toggleable__control sk-hidden--visually\" id=\"7949c858-5c5f-4d59-9b7b-f4b58f5920b8\" type=\"checkbox\" ><label class=\"sk-toggleable__label\" for=\"7949c858-5c5f-4d59-9b7b-f4b58f5920b8\">Pipeline</label><div class=\"sk-toggleable__content\"><pre>Pipeline(steps=[('col_t',\n",
       "                 ColumnTransformer(transformers=[('cat',\n",
       "                                                  Pipeline(steps=[('i',\n",
       "                                                                   SimpleImputer(fill_value='missing',\n",
       "                                                                                 strategy='constant')),\n",
       "                                                                  ('encoder',\n",
       "                                                                   OneHotEncoder(handle_unknown='ignore',\n",
       "                                                                                 sparse=False))]),\n",
       "                                                  [0]),\n",
       "                                                 ('num',\n",
       "                                                  Pipeline(steps=[('i',\n",
       "                                                                   SimpleImputer(strategy='median')),\n",
       "                                                                  ('logscaler',\n",
       "                                                                   FunctionTransformer(func=<function get_pipe_ops.<locals>.logVar at 0x7fac04c6ab90>))]),\n",
       "                                                  [1, 2, 3])])),\n",
       "                ('classifier',\n",
       "                 LogisticRegression(max_iter=5000, random_state=666,\n",
       "                                    solver='liblinear'))])</pre></div></div></div><div class=\"sk-serial\"><div class=\"sk-item sk-dashed-wrapped\"><div class=\"sk-label-container\"><div class=\"sk-label sk-toggleable\"><input class=\"sk-toggleable__control sk-hidden--visually\" id=\"35436bc8-920c-4f4e-949d-c563ded964ff\" type=\"checkbox\" ><label class=\"sk-toggleable__label\" for=\"35436bc8-920c-4f4e-949d-c563ded964ff\">col_t: ColumnTransformer</label><div class=\"sk-toggleable__content\"><pre>ColumnTransformer(transformers=[('cat',\n",
       "                                 Pipeline(steps=[('i',\n",
       "                                                  SimpleImputer(fill_value='missing',\n",
       "                                                                strategy='constant')),\n",
       "                                                 ('encoder',\n",
       "                                                  OneHotEncoder(handle_unknown='ignore',\n",
       "                                                                sparse=False))]),\n",
       "                                 [0]),\n",
       "                                ('num',\n",
       "                                 Pipeline(steps=[('i',\n",
       "                                                  SimpleImputer(strategy='median')),\n",
       "                                                 ('logscaler',\n",
       "                                                  FunctionTransformer(func=<function get_pipe_ops.<locals>.logVar at 0x7fac04c6ab90>))]),\n",
       "                                 [1, 2, 3])])</pre></div></div></div><div class=\"sk-parallel\"><div class=\"sk-parallel-item\"><div class=\"sk-item\"><div class=\"sk-label-container\"><div class=\"sk-label sk-toggleable\"><input class=\"sk-toggleable__control sk-hidden--visually\" id=\"a676651e-d792-4db0-85b8-08658741fc68\" type=\"checkbox\" ><label class=\"sk-toggleable__label\" for=\"a676651e-d792-4db0-85b8-08658741fc68\">cat</label><div class=\"sk-toggleable__content\"><pre>[0]</pre></div></div></div><div class=\"sk-serial\"><div class=\"sk-item\"><div class=\"sk-serial\"><div class=\"sk-item\"><div class=\"sk-estimator sk-toggleable\"><input class=\"sk-toggleable__control sk-hidden--visually\" id=\"15f87f78-1053-475b-af10-8016d125da83\" type=\"checkbox\" ><label class=\"sk-toggleable__label\" for=\"15f87f78-1053-475b-af10-8016d125da83\">SimpleImputer</label><div class=\"sk-toggleable__content\"><pre>SimpleImputer(fill_value='missing', strategy='constant')</pre></div></div></div><div class=\"sk-item\"><div class=\"sk-estimator sk-toggleable\"><input class=\"sk-toggleable__control sk-hidden--visually\" id=\"194dca0e-8abb-49c1-99bd-e8130d36e580\" type=\"checkbox\" ><label class=\"sk-toggleable__label\" for=\"194dca0e-8abb-49c1-99bd-e8130d36e580\">OneHotEncoder</label><div class=\"sk-toggleable__content\"><pre>OneHotEncoder(handle_unknown='ignore', sparse=False)</pre></div></div></div></div></div></div></div></div><div class=\"sk-parallel-item\"><div class=\"sk-item\"><div class=\"sk-label-container\"><div class=\"sk-label sk-toggleable\"><input class=\"sk-toggleable__control sk-hidden--visually\" id=\"d66b796d-0f0e-410b-8fd2-b002d4e8603a\" type=\"checkbox\" ><label class=\"sk-toggleable__label\" for=\"d66b796d-0f0e-410b-8fd2-b002d4e8603a\">num</label><div class=\"sk-toggleable__content\"><pre>[1, 2, 3]</pre></div></div></div><div class=\"sk-serial\"><div class=\"sk-item\"><div class=\"sk-serial\"><div class=\"sk-item\"><div class=\"sk-estimator sk-toggleable\"><input class=\"sk-toggleable__control sk-hidden--visually\" id=\"2185f37a-f3b5-4336-9c06-bf18bba7d249\" type=\"checkbox\" ><label class=\"sk-toggleable__label\" for=\"2185f37a-f3b5-4336-9c06-bf18bba7d249\">SimpleImputer</label><div class=\"sk-toggleable__content\"><pre>SimpleImputer(strategy='median')</pre></div></div></div><div class=\"sk-item\"><div class=\"sk-estimator sk-toggleable\"><input class=\"sk-toggleable__control sk-hidden--visually\" id=\"e333e919-eb4f-4739-822e-19d862b617b1\" type=\"checkbox\" ><label class=\"sk-toggleable__label\" for=\"e333e919-eb4f-4739-822e-19d862b617b1\">FunctionTransformer</label><div class=\"sk-toggleable__content\"><pre>FunctionTransformer(func=<function get_pipe_ops.<locals>.logVar at 0x7fac04c6ab90>)</pre></div></div></div></div></div></div></div></div></div></div><div class=\"sk-item\"><div class=\"sk-estimator sk-toggleable\"><input class=\"sk-toggleable__control sk-hidden--visually\" id=\"2484648f-571b-46c9-85ef-4f0791c01a95\" type=\"checkbox\" ><label class=\"sk-toggleable__label\" for=\"2484648f-571b-46c9-85ef-4f0791c01a95\">LogisticRegression</label><div class=\"sk-toggleable__content\"><pre>LogisticRegression(max_iter=5000, random_state=666, solver='liblinear')</pre></div></div></div></div></div></div></div>"
      ],
      "text/plain": [
       "Pipeline(steps=[('col_t',\n",
       "                 ColumnTransformer(transformers=[('cat',\n",
       "                                                  Pipeline(steps=[('i',\n",
       "                                                                   SimpleImputer(fill_value='missing',\n",
       "                                                                                 strategy='constant')),\n",
       "                                                                  ('encoder',\n",
       "                                                                   OneHotEncoder(handle_unknown='ignore',\n",
       "                                                                                 sparse=False))]),\n",
       "                                                  [0]),\n",
       "                                                 ('num',\n",
       "                                                  Pipeline(steps=[('i',\n",
       "                                                                   SimpleImputer(strategy='median')),\n",
       "                                                                  ('logscaler',\n",
       "                                                                   FunctionTransformer(func=<function get_pipe_ops.<locals>.logVar at 0x7fac04c6ab90>))]),\n",
       "                                                  [1, 2, 3])])),\n",
       "                ('classifier',\n",
       "                 LogisticRegression(max_iter=5000, random_state=666,\n",
       "                                    solver='liblinear'))])"
      ]
     },
     "execution_count": 50,
     "metadata": {},
     "output_type": "execute_result"
    }
   ],
   "source": [
    "Pipelines.create_tabular_pipeline('pipe_2')"
   ]
  },
  {
   "cell_type": "code",
   "execution_count": 51,
   "metadata": {},
   "outputs": [
    {
     "data": {
      "text/html": [
       "<style>div.sk-top-container {color: black;background-color: white;}div.sk-toggleable {background-color: white;}label.sk-toggleable__label {cursor: pointer;display: block;width: 100%;margin-bottom: 0;padding: 0.2em 0.3em;box-sizing: border-box;text-align: center;}div.sk-toggleable__content {max-height: 0;max-width: 0;overflow: hidden;text-align: left;background-color: #f0f8ff;}div.sk-toggleable__content pre {margin: 0.2em;color: black;border-radius: 0.25em;background-color: #f0f8ff;}input.sk-toggleable__control:checked~div.sk-toggleable__content {max-height: 200px;max-width: 100%;overflow: auto;}div.sk-estimator input.sk-toggleable__control:checked~label.sk-toggleable__label {background-color: #d4ebff;}div.sk-label input.sk-toggleable__control:checked~label.sk-toggleable__label {background-color: #d4ebff;}input.sk-hidden--visually {border: 0;clip: rect(1px 1px 1px 1px);clip: rect(1px, 1px, 1px, 1px);height: 1px;margin: -1px;overflow: hidden;padding: 0;position: absolute;width: 1px;}div.sk-estimator {font-family: monospace;background-color: #f0f8ff;margin: 0.25em 0.25em;border: 1px dotted black;border-radius: 0.25em;box-sizing: border-box;}div.sk-estimator:hover {background-color: #d4ebff;}div.sk-parallel-item::after {content: \"\";width: 100%;border-bottom: 1px solid gray;flex-grow: 1;}div.sk-label:hover label.sk-toggleable__label {background-color: #d4ebff;}div.sk-serial::before {content: \"\";position: absolute;border-left: 1px solid gray;box-sizing: border-box;top: 2em;bottom: 0;left: 50%;}div.sk-serial {display: flex;flex-direction: column;align-items: center;background-color: white;}div.sk-item {z-index: 1;}div.sk-parallel {display: flex;align-items: stretch;justify-content: center;background-color: white;}div.sk-parallel-item {display: flex;flex-direction: column;position: relative;background-color: white;}div.sk-parallel-item:first-child::after {align-self: flex-end;width: 50%;}div.sk-parallel-item:last-child::after {align-self: flex-start;width: 50%;}div.sk-parallel-item:only-child::after {width: 0;}div.sk-dashed-wrapped {border: 1px dashed gray;margin: 0.2em;box-sizing: border-box;padding-bottom: 0.1em;background-color: white;position: relative;}div.sk-label label {font-family: monospace;font-weight: bold;background-color: white;display: inline-block;line-height: 1.2em;}div.sk-label-container {position: relative;z-index: 2;text-align: center;}div.sk-container {display: inline-block;position: relative;}</style><div class=\"sk-top-container\"><div class=\"sk-container\"><div class=\"sk-item sk-dashed-wrapped\"><div class=\"sk-label-container\"><div class=\"sk-label sk-toggleable\"><input class=\"sk-toggleable__control sk-hidden--visually\" id=\"2d589326-c117-4b9c-bb37-6c248b3753e4\" type=\"checkbox\" ><label class=\"sk-toggleable__label\" for=\"2d589326-c117-4b9c-bb37-6c248b3753e4\">Pipeline</label><div class=\"sk-toggleable__content\"><pre>Pipeline(steps=[('col_t',\n",
       "                 ColumnTransformer(transformers=[('cat',\n",
       "                                                  Pipeline(steps=[('i',\n",
       "                                                                   SimpleImputer(fill_value='missing',\n",
       "                                                                                 strategy='constant')),\n",
       "                                                                  ('encoder',\n",
       "                                                                   OneHotEncoder(handle_unknown='ignore',\n",
       "                                                                                 sparse=False))]),\n",
       "                                                  [0]),\n",
       "                                                 ('num',\n",
       "                                                  Pipeline(steps=[('i',\n",
       "                                                                   SimpleImputer(strategy='median')),\n",
       "                                                                  ('PCA',\n",
       "                                                                   PCA())]),\n",
       "                                                  [1, 2, 3])])),\n",
       "                ('classifier',\n",
       "                 LogisticRegression(max_iter=5000, random_state=666,\n",
       "                                    solver='liblinear'))])</pre></div></div></div><div class=\"sk-serial\"><div class=\"sk-item sk-dashed-wrapped\"><div class=\"sk-label-container\"><div class=\"sk-label sk-toggleable\"><input class=\"sk-toggleable__control sk-hidden--visually\" id=\"3fbcecf5-3d62-4b86-85a6-b6d90a90caa5\" type=\"checkbox\" ><label class=\"sk-toggleable__label\" for=\"3fbcecf5-3d62-4b86-85a6-b6d90a90caa5\">col_t: ColumnTransformer</label><div class=\"sk-toggleable__content\"><pre>ColumnTransformer(transformers=[('cat',\n",
       "                                 Pipeline(steps=[('i',\n",
       "                                                  SimpleImputer(fill_value='missing',\n",
       "                                                                strategy='constant')),\n",
       "                                                 ('encoder',\n",
       "                                                  OneHotEncoder(handle_unknown='ignore',\n",
       "                                                                sparse=False))]),\n",
       "                                 [0]),\n",
       "                                ('num',\n",
       "                                 Pipeline(steps=[('i',\n",
       "                                                  SimpleImputer(strategy='median')),\n",
       "                                                 ('PCA', PCA())]),\n",
       "                                 [1, 2, 3])])</pre></div></div></div><div class=\"sk-parallel\"><div class=\"sk-parallel-item\"><div class=\"sk-item\"><div class=\"sk-label-container\"><div class=\"sk-label sk-toggleable\"><input class=\"sk-toggleable__control sk-hidden--visually\" id=\"b80f46ed-3a36-450a-93b5-3d3985442106\" type=\"checkbox\" ><label class=\"sk-toggleable__label\" for=\"b80f46ed-3a36-450a-93b5-3d3985442106\">cat</label><div class=\"sk-toggleable__content\"><pre>[0]</pre></div></div></div><div class=\"sk-serial\"><div class=\"sk-item\"><div class=\"sk-serial\"><div class=\"sk-item\"><div class=\"sk-estimator sk-toggleable\"><input class=\"sk-toggleable__control sk-hidden--visually\" id=\"b5a28bcb-d659-4a87-9b85-372ff8c02398\" type=\"checkbox\" ><label class=\"sk-toggleable__label\" for=\"b5a28bcb-d659-4a87-9b85-372ff8c02398\">SimpleImputer</label><div class=\"sk-toggleable__content\"><pre>SimpleImputer(fill_value='missing', strategy='constant')</pre></div></div></div><div class=\"sk-item\"><div class=\"sk-estimator sk-toggleable\"><input class=\"sk-toggleable__control sk-hidden--visually\" id=\"91052006-1272-4193-b421-0f1b026ac974\" type=\"checkbox\" ><label class=\"sk-toggleable__label\" for=\"91052006-1272-4193-b421-0f1b026ac974\">OneHotEncoder</label><div class=\"sk-toggleable__content\"><pre>OneHotEncoder(handle_unknown='ignore', sparse=False)</pre></div></div></div></div></div></div></div></div><div class=\"sk-parallel-item\"><div class=\"sk-item\"><div class=\"sk-label-container\"><div class=\"sk-label sk-toggleable\"><input class=\"sk-toggleable__control sk-hidden--visually\" id=\"556921f3-2f22-48fe-908e-d8ea4173cc7c\" type=\"checkbox\" ><label class=\"sk-toggleable__label\" for=\"556921f3-2f22-48fe-908e-d8ea4173cc7c\">num</label><div class=\"sk-toggleable__content\"><pre>[1, 2, 3]</pre></div></div></div><div class=\"sk-serial\"><div class=\"sk-item\"><div class=\"sk-serial\"><div class=\"sk-item\"><div class=\"sk-estimator sk-toggleable\"><input class=\"sk-toggleable__control sk-hidden--visually\" id=\"912bcc5e-5884-4fd1-8469-6e7b8612c918\" type=\"checkbox\" ><label class=\"sk-toggleable__label\" for=\"912bcc5e-5884-4fd1-8469-6e7b8612c918\">SimpleImputer</label><div class=\"sk-toggleable__content\"><pre>SimpleImputer(strategy='median')</pre></div></div></div><div class=\"sk-item\"><div class=\"sk-estimator sk-toggleable\"><input class=\"sk-toggleable__control sk-hidden--visually\" id=\"b7db7630-1098-4613-9be5-2b0e201b238c\" type=\"checkbox\" ><label class=\"sk-toggleable__label\" for=\"b7db7630-1098-4613-9be5-2b0e201b238c\">PCA</label><div class=\"sk-toggleable__content\"><pre>PCA()</pre></div></div></div></div></div></div></div></div></div></div><div class=\"sk-item\"><div class=\"sk-estimator sk-toggleable\"><input class=\"sk-toggleable__control sk-hidden--visually\" id=\"5e8e867a-ead3-4c65-b83e-2171384a61b7\" type=\"checkbox\" ><label class=\"sk-toggleable__label\" for=\"5e8e867a-ead3-4c65-b83e-2171384a61b7\">LogisticRegression</label><div class=\"sk-toggleable__content\"><pre>LogisticRegression(max_iter=5000, random_state=666, solver='liblinear')</pre></div></div></div></div></div></div></div>"
      ],
      "text/plain": [
       "Pipeline(steps=[('col_t',\n",
       "                 ColumnTransformer(transformers=[('cat',\n",
       "                                                  Pipeline(steps=[('i',\n",
       "                                                                   SimpleImputer(fill_value='missing',\n",
       "                                                                                 strategy='constant')),\n",
       "                                                                  ('encoder',\n",
       "                                                                   OneHotEncoder(handle_unknown='ignore',\n",
       "                                                                                 sparse=False))]),\n",
       "                                                  [0]),\n",
       "                                                 ('num',\n",
       "                                                  Pipeline(steps=[('i',\n",
       "                                                                   SimpleImputer(strategy='median')),\n",
       "                                                                  ('PCA',\n",
       "                                                                   PCA())]),\n",
       "                                                  [1, 2, 3])])),\n",
       "                ('classifier',\n",
       "                 LogisticRegression(max_iter=5000, random_state=666,\n",
       "                                    solver='liblinear'))])"
      ]
     },
     "execution_count": 51,
     "metadata": {},
     "output_type": "execute_result"
    }
   ],
   "source": [
    "Pipelines.create_tabular_pipeline('pipe_3')"
   ]
  },
  {
   "cell_type": "code",
   "execution_count": 52,
   "metadata": {},
   "outputs": [
    {
     "data": {
      "text/html": [
       "<style>div.sk-top-container {color: black;background-color: white;}div.sk-toggleable {background-color: white;}label.sk-toggleable__label {cursor: pointer;display: block;width: 100%;margin-bottom: 0;padding: 0.2em 0.3em;box-sizing: border-box;text-align: center;}div.sk-toggleable__content {max-height: 0;max-width: 0;overflow: hidden;text-align: left;background-color: #f0f8ff;}div.sk-toggleable__content pre {margin: 0.2em;color: black;border-radius: 0.25em;background-color: #f0f8ff;}input.sk-toggleable__control:checked~div.sk-toggleable__content {max-height: 200px;max-width: 100%;overflow: auto;}div.sk-estimator input.sk-toggleable__control:checked~label.sk-toggleable__label {background-color: #d4ebff;}div.sk-label input.sk-toggleable__control:checked~label.sk-toggleable__label {background-color: #d4ebff;}input.sk-hidden--visually {border: 0;clip: rect(1px 1px 1px 1px);clip: rect(1px, 1px, 1px, 1px);height: 1px;margin: -1px;overflow: hidden;padding: 0;position: absolute;width: 1px;}div.sk-estimator {font-family: monospace;background-color: #f0f8ff;margin: 0.25em 0.25em;border: 1px dotted black;border-radius: 0.25em;box-sizing: border-box;}div.sk-estimator:hover {background-color: #d4ebff;}div.sk-parallel-item::after {content: \"\";width: 100%;border-bottom: 1px solid gray;flex-grow: 1;}div.sk-label:hover label.sk-toggleable__label {background-color: #d4ebff;}div.sk-serial::before {content: \"\";position: absolute;border-left: 1px solid gray;box-sizing: border-box;top: 2em;bottom: 0;left: 50%;}div.sk-serial {display: flex;flex-direction: column;align-items: center;background-color: white;}div.sk-item {z-index: 1;}div.sk-parallel {display: flex;align-items: stretch;justify-content: center;background-color: white;}div.sk-parallel-item {display: flex;flex-direction: column;position: relative;background-color: white;}div.sk-parallel-item:first-child::after {align-self: flex-end;width: 50%;}div.sk-parallel-item:last-child::after {align-self: flex-start;width: 50%;}div.sk-parallel-item:only-child::after {width: 0;}div.sk-dashed-wrapped {border: 1px dashed gray;margin: 0.2em;box-sizing: border-box;padding-bottom: 0.1em;background-color: white;position: relative;}div.sk-label label {font-family: monospace;font-weight: bold;background-color: white;display: inline-block;line-height: 1.2em;}div.sk-label-container {position: relative;z-index: 2;text-align: center;}div.sk-container {display: inline-block;position: relative;}</style><div class=\"sk-top-container\"><div class=\"sk-container\"><div class=\"sk-item sk-dashed-wrapped\"><div class=\"sk-label-container\"><div class=\"sk-label sk-toggleable\"><input class=\"sk-toggleable__control sk-hidden--visually\" id=\"ab3e83cc-452d-4cb1-aaf2-a5ffbd1458df\" type=\"checkbox\" ><label class=\"sk-toggleable__label\" for=\"ab3e83cc-452d-4cb1-aaf2-a5ffbd1458df\">Pipeline</label><div class=\"sk-toggleable__content\"><pre>Pipeline(steps=[('col_t',\n",
       "                 ColumnTransformer(transformers=[('cat',\n",
       "                                                  Pipeline(steps=[('i',\n",
       "                                                                   SimpleImputer(fill_value='missing',\n",
       "                                                                                 strategy='constant')),\n",
       "                                                                  ('encoder',\n",
       "                                                                   OneHotEncoder(handle_unknown='ignore',\n",
       "                                                                                 sparse=False))]),\n",
       "                                                  [0]),\n",
       "                                                 ('num',\n",
       "                                                  Pipeline(steps=[('i',\n",
       "                                                                   SimpleImputer(strategy='median')),\n",
       "                                                                  ('union',\n",
       "                                                                   FeatureUnion(transformer_list=[('indicator',\n",
       "                                                                                                   MissingIndicator()),\n",
       "                                                                                                  ('kmeans',\n",
       "                                                                                                   KMeans(random_state=0))]))]),\n",
       "                                                  [1, 2, 3])])),\n",
       "                ('classifier',\n",
       "                 LogisticRegression(max_iter=5000, random_state=666,\n",
       "                                    solver='liblinear'))])</pre></div></div></div><div class=\"sk-serial\"><div class=\"sk-item sk-dashed-wrapped\"><div class=\"sk-label-container\"><div class=\"sk-label sk-toggleable\"><input class=\"sk-toggleable__control sk-hidden--visually\" id=\"58ebda6d-1b95-4525-97f7-822071916055\" type=\"checkbox\" ><label class=\"sk-toggleable__label\" for=\"58ebda6d-1b95-4525-97f7-822071916055\">col_t: ColumnTransformer</label><div class=\"sk-toggleable__content\"><pre>ColumnTransformer(transformers=[('cat',\n",
       "                                 Pipeline(steps=[('i',\n",
       "                                                  SimpleImputer(fill_value='missing',\n",
       "                                                                strategy='constant')),\n",
       "                                                 ('encoder',\n",
       "                                                  OneHotEncoder(handle_unknown='ignore',\n",
       "                                                                sparse=False))]),\n",
       "                                 [0]),\n",
       "                                ('num',\n",
       "                                 Pipeline(steps=[('i',\n",
       "                                                  SimpleImputer(strategy='median')),\n",
       "                                                 ('union',\n",
       "                                                  FeatureUnion(transformer_list=[('indicator',\n",
       "                                                                                  MissingIndicator()),\n",
       "                                                                                 ('kmeans',\n",
       "                                                                                  KMeans(random_state=0))]))]),\n",
       "                                 [1, 2, 3])])</pre></div></div></div><div class=\"sk-parallel\"><div class=\"sk-parallel-item\"><div class=\"sk-item\"><div class=\"sk-label-container\"><div class=\"sk-label sk-toggleable\"><input class=\"sk-toggleable__control sk-hidden--visually\" id=\"a0729c15-2e2f-41aa-8d76-d23a2fdee900\" type=\"checkbox\" ><label class=\"sk-toggleable__label\" for=\"a0729c15-2e2f-41aa-8d76-d23a2fdee900\">cat</label><div class=\"sk-toggleable__content\"><pre>[0]</pre></div></div></div><div class=\"sk-serial\"><div class=\"sk-item\"><div class=\"sk-serial\"><div class=\"sk-item\"><div class=\"sk-estimator sk-toggleable\"><input class=\"sk-toggleable__control sk-hidden--visually\" id=\"17397b84-43e1-4a5a-a088-b720c5d1f3de\" type=\"checkbox\" ><label class=\"sk-toggleable__label\" for=\"17397b84-43e1-4a5a-a088-b720c5d1f3de\">SimpleImputer</label><div class=\"sk-toggleable__content\"><pre>SimpleImputer(fill_value='missing', strategy='constant')</pre></div></div></div><div class=\"sk-item\"><div class=\"sk-estimator sk-toggleable\"><input class=\"sk-toggleable__control sk-hidden--visually\" id=\"80f95c56-764b-4721-ac43-ca057e723d55\" type=\"checkbox\" ><label class=\"sk-toggleable__label\" for=\"80f95c56-764b-4721-ac43-ca057e723d55\">OneHotEncoder</label><div class=\"sk-toggleable__content\"><pre>OneHotEncoder(handle_unknown='ignore', sparse=False)</pre></div></div></div></div></div></div></div></div><div class=\"sk-parallel-item\"><div class=\"sk-item\"><div class=\"sk-label-container\"><div class=\"sk-label sk-toggleable\"><input class=\"sk-toggleable__control sk-hidden--visually\" id=\"e0c4d494-3ddf-4ce1-a8bf-e8b41a103441\" type=\"checkbox\" ><label class=\"sk-toggleable__label\" for=\"e0c4d494-3ddf-4ce1-a8bf-e8b41a103441\">num</label><div class=\"sk-toggleable__content\"><pre>[1, 2, 3]</pre></div></div></div><div class=\"sk-serial\"><div class=\"sk-item\"><div class=\"sk-serial\"><div class=\"sk-item\"><div class=\"sk-estimator sk-toggleable\"><input class=\"sk-toggleable__control sk-hidden--visually\" id=\"02e7b716-3123-485a-8dd5-39ef94e87008\" type=\"checkbox\" ><label class=\"sk-toggleable__label\" for=\"02e7b716-3123-485a-8dd5-39ef94e87008\">SimpleImputer</label><div class=\"sk-toggleable__content\"><pre>SimpleImputer(strategy='median')</pre></div></div></div><div class=\"sk-item sk-dashed-wrapped\"><div class=\"sk-label-container\"><div class=\"sk-label sk-toggleable\"><input class=\"sk-toggleable__control sk-hidden--visually\" id=\"34ab9e0c-4d8d-4997-9050-c5438cba11f7\" type=\"checkbox\" ><label class=\"sk-toggleable__label\" for=\"34ab9e0c-4d8d-4997-9050-c5438cba11f7\">union: FeatureUnion</label><div class=\"sk-toggleable__content\"><pre>FeatureUnion(transformer_list=[('indicator', MissingIndicator()),\n",
       "                               ('kmeans', KMeans(random_state=0))])</pre></div></div></div><div class=\"sk-parallel\"><div class=\"sk-parallel-item\"><div class=\"sk-item\"><div class=\"sk-label-container\"><div class=\"sk-label sk-toggleable\"><label>indicator</label></div></div><div class=\"sk-serial\"><div class=\"sk-item\"><div class=\"sk-estimator sk-toggleable\"><input class=\"sk-toggleable__control sk-hidden--visually\" id=\"4da9adb7-c06f-4111-99de-fbab7e7b80b4\" type=\"checkbox\" ><label class=\"sk-toggleable__label\" for=\"4da9adb7-c06f-4111-99de-fbab7e7b80b4\">MissingIndicator</label><div class=\"sk-toggleable__content\"><pre>MissingIndicator()</pre></div></div></div></div></div></div><div class=\"sk-parallel-item\"><div class=\"sk-item\"><div class=\"sk-label-container\"><div class=\"sk-label sk-toggleable\"><label>kmeans</label></div></div><div class=\"sk-serial\"><div class=\"sk-item\"><div class=\"sk-estimator sk-toggleable\"><input class=\"sk-toggleable__control sk-hidden--visually\" id=\"4c8f0246-ec66-4679-948c-09387e35da33\" type=\"checkbox\" ><label class=\"sk-toggleable__label\" for=\"4c8f0246-ec66-4679-948c-09387e35da33\">KMeans</label><div class=\"sk-toggleable__content\"><pre>KMeans(random_state=0)</pre></div></div></div></div></div></div></div></div></div></div></div></div></div></div></div><div class=\"sk-item\"><div class=\"sk-estimator sk-toggleable\"><input class=\"sk-toggleable__control sk-hidden--visually\" id=\"df231126-4da4-48e0-b43a-de8288b52774\" type=\"checkbox\" ><label class=\"sk-toggleable__label\" for=\"df231126-4da4-48e0-b43a-de8288b52774\">LogisticRegression</label><div class=\"sk-toggleable__content\"><pre>LogisticRegression(max_iter=5000, random_state=666, solver='liblinear')</pre></div></div></div></div></div></div></div>"
      ],
      "text/plain": [
       "Pipeline(steps=[('col_t',\n",
       "                 ColumnTransformer(transformers=[('cat',\n",
       "                                                  Pipeline(steps=[('i',\n",
       "                                                                   SimpleImputer(fill_value='missing',\n",
       "                                                                                 strategy='constant')),\n",
       "                                                                  ('encoder',\n",
       "                                                                   OneHotEncoder(handle_unknown='ignore',\n",
       "                                                                                 sparse=False))]),\n",
       "                                                  [0]),\n",
       "                                                 ('num',\n",
       "                                                  Pipeline(steps=[('i',\n",
       "                                                                   SimpleImputer(strategy='median')),\n",
       "                                                                  ('union',\n",
       "                                                                   FeatureUnion(transformer_list=[('indicator',\n",
       "                                                                                                   MissingIndicator()),\n",
       "                                                                                                  ('kmeans',\n",
       "                                                                                                   KMeans(random_state=0))]))]),\n",
       "                                                  [1, 2, 3])])),\n",
       "                ('classifier',\n",
       "                 LogisticRegression(max_iter=5000, random_state=666,\n",
       "                                    solver='liblinear'))])"
      ]
     },
     "execution_count": 52,
     "metadata": {},
     "output_type": "execute_result"
    }
   ],
   "source": [
    "Pipelines.create_tabular_pipeline('pipe_4')"
   ]
  },
  {
   "cell_type": "code",
   "execution_count": 53,
   "metadata": {},
   "outputs": [
    {
     "data": {
      "text/html": [
       "<style>div.sk-top-container {color: black;background-color: white;}div.sk-toggleable {background-color: white;}label.sk-toggleable__label {cursor: pointer;display: block;width: 100%;margin-bottom: 0;padding: 0.2em 0.3em;box-sizing: border-box;text-align: center;}div.sk-toggleable__content {max-height: 0;max-width: 0;overflow: hidden;text-align: left;background-color: #f0f8ff;}div.sk-toggleable__content pre {margin: 0.2em;color: black;border-radius: 0.25em;background-color: #f0f8ff;}input.sk-toggleable__control:checked~div.sk-toggleable__content {max-height: 200px;max-width: 100%;overflow: auto;}div.sk-estimator input.sk-toggleable__control:checked~label.sk-toggleable__label {background-color: #d4ebff;}div.sk-label input.sk-toggleable__control:checked~label.sk-toggleable__label {background-color: #d4ebff;}input.sk-hidden--visually {border: 0;clip: rect(1px 1px 1px 1px);clip: rect(1px, 1px, 1px, 1px);height: 1px;margin: -1px;overflow: hidden;padding: 0;position: absolute;width: 1px;}div.sk-estimator {font-family: monospace;background-color: #f0f8ff;margin: 0.25em 0.25em;border: 1px dotted black;border-radius: 0.25em;box-sizing: border-box;}div.sk-estimator:hover {background-color: #d4ebff;}div.sk-parallel-item::after {content: \"\";width: 100%;border-bottom: 1px solid gray;flex-grow: 1;}div.sk-label:hover label.sk-toggleable__label {background-color: #d4ebff;}div.sk-serial::before {content: \"\";position: absolute;border-left: 1px solid gray;box-sizing: border-box;top: 2em;bottom: 0;left: 50%;}div.sk-serial {display: flex;flex-direction: column;align-items: center;background-color: white;}div.sk-item {z-index: 1;}div.sk-parallel {display: flex;align-items: stretch;justify-content: center;background-color: white;}div.sk-parallel-item {display: flex;flex-direction: column;position: relative;background-color: white;}div.sk-parallel-item:first-child::after {align-self: flex-end;width: 50%;}div.sk-parallel-item:last-child::after {align-self: flex-start;width: 50%;}div.sk-parallel-item:only-child::after {width: 0;}div.sk-dashed-wrapped {border: 1px dashed gray;margin: 0.2em;box-sizing: border-box;padding-bottom: 0.1em;background-color: white;position: relative;}div.sk-label label {font-family: monospace;font-weight: bold;background-color: white;display: inline-block;line-height: 1.2em;}div.sk-label-container {position: relative;z-index: 2;text-align: center;}div.sk-container {display: inline-block;position: relative;}</style><div class=\"sk-top-container\"><div class=\"sk-container\"><div class=\"sk-item sk-dashed-wrapped\"><div class=\"sk-label-container\"><div class=\"sk-label sk-toggleable\"><input class=\"sk-toggleable__control sk-hidden--visually\" id=\"cfe0ebc6-ad29-4dcd-a7e1-afbcb7d5e954\" type=\"checkbox\" ><label class=\"sk-toggleable__label\" for=\"cfe0ebc6-ad29-4dcd-a7e1-afbcb7d5e954\">Pipeline</label><div class=\"sk-toggleable__content\"><pre>Pipeline(steps=[('col_t',\n",
       "                 ColumnTransformer(transformers=[('cat',\n",
       "                                                  Pipeline(steps=[('i',\n",
       "                                                                   SimpleImputer(fill_value='missing',\n",
       "                                                                                 strategy='constant')),\n",
       "                                                                  ('encoder',\n",
       "                                                                   OneHotEncoder(handle_unknown='ignore',\n",
       "                                                                                 sparse=False))]),\n",
       "                                                  [0]),\n",
       "                                                 ('num',\n",
       "                                                  Pipeline(steps=[('i',\n",
       "                                                                   SimpleImputer(strategy='median')),\n",
       "                                                                  ('union',\n",
       "                                                                   FeatureUnion(transformer_list=[('pca',\n",
       "                                                                                                   PCA()),\n",
       "                                                                                                  ('svd',\n",
       "                                                                                                   TruncatedSVD()),\n",
       "                                                                                                  ('lda',\n",
       "                                                                                                   LatentDirichletAllocation())]))]),\n",
       "                                                  [1, 2, 3])])),\n",
       "                ('classifier',\n",
       "                 LogisticRegression(max_iter=5000, random_state=666,\n",
       "                                    solver='liblinear'))])</pre></div></div></div><div class=\"sk-serial\"><div class=\"sk-item sk-dashed-wrapped\"><div class=\"sk-label-container\"><div class=\"sk-label sk-toggleable\"><input class=\"sk-toggleable__control sk-hidden--visually\" id=\"0945f930-6a97-458b-9ec9-5b7078eb66f3\" type=\"checkbox\" ><label class=\"sk-toggleable__label\" for=\"0945f930-6a97-458b-9ec9-5b7078eb66f3\">col_t: ColumnTransformer</label><div class=\"sk-toggleable__content\"><pre>ColumnTransformer(transformers=[('cat',\n",
       "                                 Pipeline(steps=[('i',\n",
       "                                                  SimpleImputer(fill_value='missing',\n",
       "                                                                strategy='constant')),\n",
       "                                                 ('encoder',\n",
       "                                                  OneHotEncoder(handle_unknown='ignore',\n",
       "                                                                sparse=False))]),\n",
       "                                 [0]),\n",
       "                                ('num',\n",
       "                                 Pipeline(steps=[('i',\n",
       "                                                  SimpleImputer(strategy='median')),\n",
       "                                                 ('union',\n",
       "                                                  FeatureUnion(transformer_list=[('pca',\n",
       "                                                                                  PCA()),\n",
       "                                                                                 ('svd',\n",
       "                                                                                  TruncatedSVD()),\n",
       "                                                                                 ('lda',\n",
       "                                                                                  LatentDirichletAllocation())]))]),\n",
       "                                 [1, 2, 3])])</pre></div></div></div><div class=\"sk-parallel\"><div class=\"sk-parallel-item\"><div class=\"sk-item\"><div class=\"sk-label-container\"><div class=\"sk-label sk-toggleable\"><input class=\"sk-toggleable__control sk-hidden--visually\" id=\"c59358a9-f7fa-4e1e-8e1b-8ac3a20a43d4\" type=\"checkbox\" ><label class=\"sk-toggleable__label\" for=\"c59358a9-f7fa-4e1e-8e1b-8ac3a20a43d4\">cat</label><div class=\"sk-toggleable__content\"><pre>[0]</pre></div></div></div><div class=\"sk-serial\"><div class=\"sk-item\"><div class=\"sk-serial\"><div class=\"sk-item\"><div class=\"sk-estimator sk-toggleable\"><input class=\"sk-toggleable__control sk-hidden--visually\" id=\"a2f353a5-c90d-4eab-92d6-5b62b21f7afc\" type=\"checkbox\" ><label class=\"sk-toggleable__label\" for=\"a2f353a5-c90d-4eab-92d6-5b62b21f7afc\">SimpleImputer</label><div class=\"sk-toggleable__content\"><pre>SimpleImputer(fill_value='missing', strategy='constant')</pre></div></div></div><div class=\"sk-item\"><div class=\"sk-estimator sk-toggleable\"><input class=\"sk-toggleable__control sk-hidden--visually\" id=\"ad2059f6-625a-4d87-a2d7-829ae261a66c\" type=\"checkbox\" ><label class=\"sk-toggleable__label\" for=\"ad2059f6-625a-4d87-a2d7-829ae261a66c\">OneHotEncoder</label><div class=\"sk-toggleable__content\"><pre>OneHotEncoder(handle_unknown='ignore', sparse=False)</pre></div></div></div></div></div></div></div></div><div class=\"sk-parallel-item\"><div class=\"sk-item\"><div class=\"sk-label-container\"><div class=\"sk-label sk-toggleable\"><input class=\"sk-toggleable__control sk-hidden--visually\" id=\"6469db36-5881-4237-86fa-cb7ae60814ce\" type=\"checkbox\" ><label class=\"sk-toggleable__label\" for=\"6469db36-5881-4237-86fa-cb7ae60814ce\">num</label><div class=\"sk-toggleable__content\"><pre>[1, 2, 3]</pre></div></div></div><div class=\"sk-serial\"><div class=\"sk-item\"><div class=\"sk-serial\"><div class=\"sk-item\"><div class=\"sk-estimator sk-toggleable\"><input class=\"sk-toggleable__control sk-hidden--visually\" id=\"84b98cb8-c434-4b0a-a610-951668f36e50\" type=\"checkbox\" ><label class=\"sk-toggleable__label\" for=\"84b98cb8-c434-4b0a-a610-951668f36e50\">SimpleImputer</label><div class=\"sk-toggleable__content\"><pre>SimpleImputer(strategy='median')</pre></div></div></div><div class=\"sk-item sk-dashed-wrapped\"><div class=\"sk-label-container\"><div class=\"sk-label sk-toggleable\"><input class=\"sk-toggleable__control sk-hidden--visually\" id=\"6e3275de-804a-42ad-86c6-e7dd3d084d4d\" type=\"checkbox\" ><label class=\"sk-toggleable__label\" for=\"6e3275de-804a-42ad-86c6-e7dd3d084d4d\">union: FeatureUnion</label><div class=\"sk-toggleable__content\"><pre>FeatureUnion(transformer_list=[('pca', PCA()), ('svd', TruncatedSVD()),\n",
       "                               ('lda', LatentDirichletAllocation())])</pre></div></div></div><div class=\"sk-parallel\"><div class=\"sk-parallel-item\"><div class=\"sk-item\"><div class=\"sk-label-container\"><div class=\"sk-label sk-toggleable\"><label>pca</label></div></div><div class=\"sk-serial\"><div class=\"sk-item\"><div class=\"sk-estimator sk-toggleable\"><input class=\"sk-toggleable__control sk-hidden--visually\" id=\"209a5292-1169-4cad-9966-e343a02799db\" type=\"checkbox\" ><label class=\"sk-toggleable__label\" for=\"209a5292-1169-4cad-9966-e343a02799db\">PCA</label><div class=\"sk-toggleable__content\"><pre>PCA()</pre></div></div></div></div></div></div><div class=\"sk-parallel-item\"><div class=\"sk-item\"><div class=\"sk-label-container\"><div class=\"sk-label sk-toggleable\"><label>svd</label></div></div><div class=\"sk-serial\"><div class=\"sk-item\"><div class=\"sk-estimator sk-toggleable\"><input class=\"sk-toggleable__control sk-hidden--visually\" id=\"d9314f5b-01e7-47bf-8cdf-8692a4ce13a0\" type=\"checkbox\" ><label class=\"sk-toggleable__label\" for=\"d9314f5b-01e7-47bf-8cdf-8692a4ce13a0\">TruncatedSVD</label><div class=\"sk-toggleable__content\"><pre>TruncatedSVD()</pre></div></div></div></div></div></div><div class=\"sk-parallel-item\"><div class=\"sk-item\"><div class=\"sk-label-container\"><div class=\"sk-label sk-toggleable\"><label>lda</label></div></div><div class=\"sk-serial\"><div class=\"sk-item\"><div class=\"sk-estimator sk-toggleable\"><input class=\"sk-toggleable__control sk-hidden--visually\" id=\"7971f948-4e84-4182-9325-5071719184ba\" type=\"checkbox\" ><label class=\"sk-toggleable__label\" for=\"7971f948-4e84-4182-9325-5071719184ba\">LatentDirichletAllocation</label><div class=\"sk-toggleable__content\"><pre>LatentDirichletAllocation()</pre></div></div></div></div></div></div></div></div></div></div></div></div></div></div></div><div class=\"sk-item\"><div class=\"sk-estimator sk-toggleable\"><input class=\"sk-toggleable__control sk-hidden--visually\" id=\"66f68cfe-aa39-40fb-ae7e-39b18c0b2e43\" type=\"checkbox\" ><label class=\"sk-toggleable__label\" for=\"66f68cfe-aa39-40fb-ae7e-39b18c0b2e43\">LogisticRegression</label><div class=\"sk-toggleable__content\"><pre>LogisticRegression(max_iter=5000, random_state=666, solver='liblinear')</pre></div></div></div></div></div></div></div>"
      ],
      "text/plain": [
       "Pipeline(steps=[('col_t',\n",
       "                 ColumnTransformer(transformers=[('cat',\n",
       "                                                  Pipeline(steps=[('i',\n",
       "                                                                   SimpleImputer(fill_value='missing',\n",
       "                                                                                 strategy='constant')),\n",
       "                                                                  ('encoder',\n",
       "                                                                   OneHotEncoder(handle_unknown='ignore',\n",
       "                                                                                 sparse=False))]),\n",
       "                                                  [0]),\n",
       "                                                 ('num',\n",
       "                                                  Pipeline(steps=[('i',\n",
       "                                                                   SimpleImputer(strategy='median')),\n",
       "                                                                  ('union',\n",
       "                                                                   FeatureUnion(transformer_list=[('pca',\n",
       "                                                                                                   PCA()),\n",
       "                                                                                                  ('svd',\n",
       "                                                                                                   TruncatedSVD()),\n",
       "                                                                                                  ('lda',\n",
       "                                                                                                   LatentDirichletAllocation())]))]),\n",
       "                                                  [1, 2, 3])])),\n",
       "                ('classifier',\n",
       "                 LogisticRegression(max_iter=5000, random_state=666,\n",
       "                                    solver='liblinear'))])"
      ]
     },
     "execution_count": 53,
     "metadata": {},
     "output_type": "execute_result"
    }
   ],
   "source": [
    "Pipelines.create_tabular_pipeline('pipe_5')"
   ]
  },
  {
   "cell_type": "markdown",
   "metadata": {},
   "source": [
    "## Text Pipeline"
   ]
  },
  {
   "cell_type": "code",
   "execution_count": 65,
   "metadata": {},
   "outputs": [
    {
     "name": "stderr",
     "output_type": "stream",
     "text": [
      "[nltk_data] Downloading package stopwords to /Users/david/nltk_data...\n",
      "[nltk_data]   Package stopwords is already up-to-date!\n",
      "[nltk_data] Downloading package wordnet to /Users/david/nltk_data...\n",
      "[nltk_data]   Package wordnet is already up-to-date!\n",
      "[nltk_data] Downloading package punkt to /Users/david/nltk_data...\n",
      "[nltk_data]   Package punkt is already up-to-date!\n"
     ]
    },
    {
     "data": {
      "text/html": [
       "<style>div.sk-top-container {color: black;background-color: white;}div.sk-toggleable {background-color: white;}label.sk-toggleable__label {cursor: pointer;display: block;width: 100%;margin-bottom: 0;padding: 0.2em 0.3em;box-sizing: border-box;text-align: center;}div.sk-toggleable__content {max-height: 0;max-width: 0;overflow: hidden;text-align: left;background-color: #f0f8ff;}div.sk-toggleable__content pre {margin: 0.2em;color: black;border-radius: 0.25em;background-color: #f0f8ff;}input.sk-toggleable__control:checked~div.sk-toggleable__content {max-height: 200px;max-width: 100%;overflow: auto;}div.sk-estimator input.sk-toggleable__control:checked~label.sk-toggleable__label {background-color: #d4ebff;}div.sk-label input.sk-toggleable__control:checked~label.sk-toggleable__label {background-color: #d4ebff;}input.sk-hidden--visually {border: 0;clip: rect(1px 1px 1px 1px);clip: rect(1px, 1px, 1px, 1px);height: 1px;margin: -1px;overflow: hidden;padding: 0;position: absolute;width: 1px;}div.sk-estimator {font-family: monospace;background-color: #f0f8ff;margin: 0.25em 0.25em;border: 1px dotted black;border-radius: 0.25em;box-sizing: border-box;}div.sk-estimator:hover {background-color: #d4ebff;}div.sk-parallel-item::after {content: \"\";width: 100%;border-bottom: 1px solid gray;flex-grow: 1;}div.sk-label:hover label.sk-toggleable__label {background-color: #d4ebff;}div.sk-serial::before {content: \"\";position: absolute;border-left: 1px solid gray;box-sizing: border-box;top: 2em;bottom: 0;left: 50%;}div.sk-serial {display: flex;flex-direction: column;align-items: center;background-color: white;}div.sk-item {z-index: 1;}div.sk-parallel {display: flex;align-items: stretch;justify-content: center;background-color: white;}div.sk-parallel-item {display: flex;flex-direction: column;position: relative;background-color: white;}div.sk-parallel-item:first-child::after {align-self: flex-end;width: 50%;}div.sk-parallel-item:last-child::after {align-self: flex-start;width: 50%;}div.sk-parallel-item:only-child::after {width: 0;}div.sk-dashed-wrapped {border: 1px dashed gray;margin: 0.2em;box-sizing: border-box;padding-bottom: 0.1em;background-color: white;position: relative;}div.sk-label label {font-family: monospace;font-weight: bold;background-color: white;display: inline-block;line-height: 1.2em;}div.sk-label-container {position: relative;z-index: 2;text-align: center;}div.sk-container {display: inline-block;position: relative;}</style><div class=\"sk-top-container\"><div class=\"sk-container\"><div class=\"sk-item sk-dashed-wrapped\"><div class=\"sk-label-container\"><div class=\"sk-label sk-toggleable\"><input class=\"sk-toggleable__control sk-hidden--visually\" id=\"156bb9cd-9e70-4d08-9fbb-fbe4ff81937e\" type=\"checkbox\" ><label class=\"sk-toggleable__label\" for=\"156bb9cd-9e70-4d08-9fbb-fbe4ff81937e\">Pipeline</label><div class=\"sk-toggleable__content\"><pre>Pipeline(steps=[('text_transform',\n",
       "                 ColumnTransformer(transformers=[('list',\n",
       "                                                  [('nltk_remove_urls',\n",
       "                                                    <src.TextPipeline.DataframeFunctionTransformer object at 0x7fac093ce8d0>),\n",
       "                                                   ('nltk_lowercase',\n",
       "                                                    <src.TextPipeline.DataframeFunctionTransformer object at 0x7fac093d74d0>),\n",
       "                                                   ('nltk_remove_numbers',\n",
       "                                                    <src.TextPipeline.DataframeFunctionTransformer object at 0x7fac093d7510>),\n",
       "                                                   (...\n",
       "                                                    <src.TextPipeline.DataframeFunctionTransformer object at 0x7fac093d75d0>),\n",
       "                                                   ('nltk_lemmatize',\n",
       "                                                    <src.TextPipeline.DataframeFunctionTransformer object at 0x7fac093d7610>),\n",
       "                                                   ('nltk_join_text',\n",
       "                                                    <src.TextPipeline.DataframeFunctionTransformer object at 0x7fac093d7650>),\n",
       "                                                   ('count', CountVectorizer()),\n",
       "                                                   ('tfid',\n",
       "                                                    TfidfTransformer())],\n",
       "                                                  <sklearn.compose._column_transformer.make_column_selector object at 0x7fac093d7750>)]))])</pre></div></div></div><div class=\"sk-serial\"><div class=\"sk-item sk-dashed-wrapped\"><div class=\"sk-label-container\"><div class=\"sk-label sk-toggleable\"><input class=\"sk-toggleable__control sk-hidden--visually\" id=\"24dfd065-02e6-4ad3-b5be-5cf710d2de76\" type=\"checkbox\" ><label class=\"sk-toggleable__label\" for=\"24dfd065-02e6-4ad3-b5be-5cf710d2de76\">text_transform: ColumnTransformer</label><div class=\"sk-toggleable__content\"><pre>ColumnTransformer(transformers=[('list',\n",
       "                                 [('nltk_remove_urls',\n",
       "                                   <src.TextPipeline.DataframeFunctionTransformer object at 0x7fac093ce8d0>),\n",
       "                                  ('nltk_lowercase',\n",
       "                                   <src.TextPipeline.DataframeFunctionTransformer object at 0x7fac093d74d0>),\n",
       "                                  ('nltk_remove_numbers',\n",
       "                                   <src.TextPipeline.DataframeFunctionTransformer object at 0x7fac093d7510>),\n",
       "                                  ('nltk_remove_punctuation',\n",
       "                                   <src.Tex...\n",
       "                                   <src.TextPipeline.DataframeFunctionTransformer object at 0x7fac093d75d0>),\n",
       "                                  ('nltk_lemmatize',\n",
       "                                   <src.TextPipeline.DataframeFunctionTransformer object at 0x7fac093d7610>),\n",
       "                                  ('nltk_join_text',\n",
       "                                   <src.TextPipeline.DataframeFunctionTransformer object at 0x7fac093d7650>),\n",
       "                                  ('count', CountVectorizer()),\n",
       "                                  ('tfid', TfidfTransformer())],\n",
       "                                 <sklearn.compose._column_transformer.make_column_selector object at 0x7fac093d7750>)])</pre></div></div></div><div class=\"sk-parallel\"><div class=\"sk-parallel-item\"><div class=\"sk-item\"><div class=\"sk-label-container\"><div class=\"sk-label sk-toggleable\"><input class=\"sk-toggleable__control sk-hidden--visually\" id=\"bed1c2d6-12b7-4309-aef5-e29a70c2e7cd\" type=\"checkbox\" ><label class=\"sk-toggleable__label\" for=\"bed1c2d6-12b7-4309-aef5-e29a70c2e7cd\">list</label><div class=\"sk-toggleable__content\"><pre><sklearn.compose._column_transformer.make_column_selector object at 0x7fac093d7750></pre></div></div></div><div class=\"sk-serial\"><div class=\"sk-item\"><div class=\"sk-estimator sk-toggleable\"><input class=\"sk-toggleable__control sk-hidden--visually\" id=\"665c4972-64fe-420c-9b0e-a76366e26b8f\" type=\"checkbox\" ><label class=\"sk-toggleable__label\" for=\"665c4972-64fe-420c-9b0e-a76366e26b8f\">list</label><div class=\"sk-toggleable__content\"><pre>[('nltk_remove_urls', <src.TextPipeline.DataframeFunctionTransformer object at 0x7fac093ce8d0>), ('nltk_lowercase', <src.TextPipeline.DataframeFunctionTransformer object at 0x7fac093d74d0>), ('nltk_remove_numbers', <src.TextPipeline.DataframeFunctionTransformer object at 0x7fac093d7510>), ('nltk_remove_punctuation', <src.TextPipeline.DataframeFunctionTransformer object at 0x7fac093d7550>), ('nltk_tokenize', <src.TextPipeline.DataframeFunctionTransformer object at 0x7fac093d7590>), ('nltk_remove_stopwords', <src.TextPipeline.DataframeFunctionTransformer object at 0x7fac093d75d0>), ('nltk_lemmatize', <src.TextPipeline.DataframeFunctionTransformer object at 0x7fac093d7610>), ('nltk_join_text', <src.TextPipeline.DataframeFunctionTransformer object at 0x7fac093d7650>), ('count', CountVectorizer()), ('tfid', TfidfTransformer())]</pre></div></div></div></div></div></div></div></div></div></div></div></div>"
      ],
      "text/plain": [
       "Pipeline(steps=[('text_transform',\n",
       "                 ColumnTransformer(transformers=[('list',\n",
       "                                                  [('nltk_remove_urls',\n",
       "                                                    <src.TextPipeline.DataframeFunctionTransformer object at 0x7fac093ce8d0>),\n",
       "                                                   ('nltk_lowercase',\n",
       "                                                    <src.TextPipeline.DataframeFunctionTransformer object at 0x7fac093d74d0>),\n",
       "                                                   ('nltk_remove_numbers',\n",
       "                                                    <src.TextPipeline.DataframeFunctionTransformer object at 0x7fac093d7510>),\n",
       "                                                   (...\n",
       "                                                    <src.TextPipeline.DataframeFunctionTransformer object at 0x7fac093d75d0>),\n",
       "                                                   ('nltk_lemmatize',\n",
       "                                                    <src.TextPipeline.DataframeFunctionTransformer object at 0x7fac093d7610>),\n",
       "                                                   ('nltk_join_text',\n",
       "                                                    <src.TextPipeline.DataframeFunctionTransformer object at 0x7fac093d7650>),\n",
       "                                                   ('count', CountVectorizer()),\n",
       "                                                   ('tfid',\n",
       "                                                    TfidfTransformer())],\n",
       "                                                  <sklearn.compose._column_transformer.make_column_selector object at 0x7fac093d7750>)]))])"
      ]
     },
     "execution_count": 65,
     "metadata": {},
     "output_type": "execute_result"
    }
   ],
   "source": [
    "pipe = TextPipeline.TextPipeline('mode_1')\n",
    "pipe.get_pipeline()"
   ]
  },
  {
   "cell_type": "code",
   "execution_count": 66,
   "metadata": {},
   "outputs": [
    {
     "data": {
      "text/html": [
       "<style>div.sk-top-container {color: black;background-color: white;}div.sk-toggleable {background-color: white;}label.sk-toggleable__label {cursor: pointer;display: block;width: 100%;margin-bottom: 0;padding: 0.2em 0.3em;box-sizing: border-box;text-align: center;}div.sk-toggleable__content {max-height: 0;max-width: 0;overflow: hidden;text-align: left;background-color: #f0f8ff;}div.sk-toggleable__content pre {margin: 0.2em;color: black;border-radius: 0.25em;background-color: #f0f8ff;}input.sk-toggleable__control:checked~div.sk-toggleable__content {max-height: 200px;max-width: 100%;overflow: auto;}div.sk-estimator input.sk-toggleable__control:checked~label.sk-toggleable__label {background-color: #d4ebff;}div.sk-label input.sk-toggleable__control:checked~label.sk-toggleable__label {background-color: #d4ebff;}input.sk-hidden--visually {border: 0;clip: rect(1px 1px 1px 1px);clip: rect(1px, 1px, 1px, 1px);height: 1px;margin: -1px;overflow: hidden;padding: 0;position: absolute;width: 1px;}div.sk-estimator {font-family: monospace;background-color: #f0f8ff;margin: 0.25em 0.25em;border: 1px dotted black;border-radius: 0.25em;box-sizing: border-box;}div.sk-estimator:hover {background-color: #d4ebff;}div.sk-parallel-item::after {content: \"\";width: 100%;border-bottom: 1px solid gray;flex-grow: 1;}div.sk-label:hover label.sk-toggleable__label {background-color: #d4ebff;}div.sk-serial::before {content: \"\";position: absolute;border-left: 1px solid gray;box-sizing: border-box;top: 2em;bottom: 0;left: 50%;}div.sk-serial {display: flex;flex-direction: column;align-items: center;background-color: white;}div.sk-item {z-index: 1;}div.sk-parallel {display: flex;align-items: stretch;justify-content: center;background-color: white;}div.sk-parallel-item {display: flex;flex-direction: column;position: relative;background-color: white;}div.sk-parallel-item:first-child::after {align-self: flex-end;width: 50%;}div.sk-parallel-item:last-child::after {align-self: flex-start;width: 50%;}div.sk-parallel-item:only-child::after {width: 0;}div.sk-dashed-wrapped {border: 1px dashed gray;margin: 0.2em;box-sizing: border-box;padding-bottom: 0.1em;background-color: white;position: relative;}div.sk-label label {font-family: monospace;font-weight: bold;background-color: white;display: inline-block;line-height: 1.2em;}div.sk-label-container {position: relative;z-index: 2;text-align: center;}div.sk-container {display: inline-block;position: relative;}</style><div class=\"sk-top-container\"><div class=\"sk-container\"><div class=\"sk-item sk-dashed-wrapped\"><div class=\"sk-label-container\"><div class=\"sk-label sk-toggleable\"><input class=\"sk-toggleable__control sk-hidden--visually\" id=\"00ee963e-ef92-4bf2-9bfc-4408139ad282\" type=\"checkbox\" ><label class=\"sk-toggleable__label\" for=\"00ee963e-ef92-4bf2-9bfc-4408139ad282\">Pipeline</label><div class=\"sk-toggleable__content\"><pre>Pipeline(steps=[('text_transform',\n",
       "                 ColumnTransformer(transformers=[('list',\n",
       "                                                  [('nltk_remove_urls',\n",
       "                                                    <src.TextPipeline.DataframeFunctionTransformer object at 0x7fac093d78d0>),\n",
       "                                                   ('nltk_lowercase',\n",
       "                                                    <src.TextPipeline.DataframeFunctionTransformer object at 0x7fac093dba10>),\n",
       "                                                   ('nltk_remove_numbers',\n",
       "                                                    <src.TextPipeline.DataframeFunctionTransformer object at 0x7fac093dba50>),\n",
       "                                                   (...\n",
       "                                                    <src.TextPipeline.DataframeFunctionTransformer object at 0x7fac093dbb10>),\n",
       "                                                   ('nltk_lemmatize',\n",
       "                                                    <src.TextPipeline.DataframeFunctionTransformer object at 0x7fac093dbb50>),\n",
       "                                                   ('nltk_join_text',\n",
       "                                                    <src.TextPipeline.DataframeFunctionTransformer object at 0x7fac093dbb90>),\n",
       "                                                   ('count', CountVectorizer()),\n",
       "                                                   ('tfid',\n",
       "                                                    TfidfTransformer())],\n",
       "                                                  <sklearn.compose._column_transformer.make_column_selector object at 0x7fac093dbc90>)]))])</pre></div></div></div><div class=\"sk-serial\"><div class=\"sk-item sk-dashed-wrapped\"><div class=\"sk-label-container\"><div class=\"sk-label sk-toggleable\"><input class=\"sk-toggleable__control sk-hidden--visually\" id=\"fc7cb099-92a2-49ab-8ad2-cddbe2b8c4c4\" type=\"checkbox\" ><label class=\"sk-toggleable__label\" for=\"fc7cb099-92a2-49ab-8ad2-cddbe2b8c4c4\">text_transform: ColumnTransformer</label><div class=\"sk-toggleable__content\"><pre>ColumnTransformer(transformers=[('list',\n",
       "                                 [('nltk_remove_urls',\n",
       "                                   <src.TextPipeline.DataframeFunctionTransformer object at 0x7fac093d78d0>),\n",
       "                                  ('nltk_lowercase',\n",
       "                                   <src.TextPipeline.DataframeFunctionTransformer object at 0x7fac093dba10>),\n",
       "                                  ('nltk_remove_numbers',\n",
       "                                   <src.TextPipeline.DataframeFunctionTransformer object at 0x7fac093dba50>),\n",
       "                                  ('nltk_remove_punctuation',\n",
       "                                   <src.Tex...\n",
       "                                   <src.TextPipeline.DataframeFunctionTransformer object at 0x7fac093dbb10>),\n",
       "                                  ('nltk_lemmatize',\n",
       "                                   <src.TextPipeline.DataframeFunctionTransformer object at 0x7fac093dbb50>),\n",
       "                                  ('nltk_join_text',\n",
       "                                   <src.TextPipeline.DataframeFunctionTransformer object at 0x7fac093dbb90>),\n",
       "                                  ('count', CountVectorizer()),\n",
       "                                  ('tfid', TfidfTransformer())],\n",
       "                                 <sklearn.compose._column_transformer.make_column_selector object at 0x7fac093dbc90>)])</pre></div></div></div><div class=\"sk-parallel\"><div class=\"sk-parallel-item\"><div class=\"sk-item\"><div class=\"sk-label-container\"><div class=\"sk-label sk-toggleable\"><input class=\"sk-toggleable__control sk-hidden--visually\" id=\"7ba90e79-30bb-4848-966d-45f67baee250\" type=\"checkbox\" ><label class=\"sk-toggleable__label\" for=\"7ba90e79-30bb-4848-966d-45f67baee250\">list</label><div class=\"sk-toggleable__content\"><pre><sklearn.compose._column_transformer.make_column_selector object at 0x7fac093dbc90></pre></div></div></div><div class=\"sk-serial\"><div class=\"sk-item\"><div class=\"sk-estimator sk-toggleable\"><input class=\"sk-toggleable__control sk-hidden--visually\" id=\"b863030c-9c5f-49ae-8913-46723bb96d02\" type=\"checkbox\" ><label class=\"sk-toggleable__label\" for=\"b863030c-9c5f-49ae-8913-46723bb96d02\">list</label><div class=\"sk-toggleable__content\"><pre>[('nltk_remove_urls', <src.TextPipeline.DataframeFunctionTransformer object at 0x7fac093d78d0>), ('nltk_lowercase', <src.TextPipeline.DataframeFunctionTransformer object at 0x7fac093dba10>), ('nltk_remove_numbers', <src.TextPipeline.DataframeFunctionTransformer object at 0x7fac093dba50>), ('nltk_remove_punctuation', <src.TextPipeline.DataframeFunctionTransformer object at 0x7fac093dba90>), ('nltk_tokenize', <src.TextPipeline.DataframeFunctionTransformer object at 0x7fac093dbad0>), ('nltk_remove_stopwords', <src.TextPipeline.DataframeFunctionTransformer object at 0x7fac093dbb10>), ('nltk_lemmatize', <src.TextPipeline.DataframeFunctionTransformer object at 0x7fac093dbb50>), ('nltk_join_text', <src.TextPipeline.DataframeFunctionTransformer object at 0x7fac093dbb90>), ('count', CountVectorizer()), ('tfid', TfidfTransformer())]</pre></div></div></div></div></div></div></div></div></div></div></div></div>"
      ],
      "text/plain": [
       "Pipeline(steps=[('text_transform',\n",
       "                 ColumnTransformer(transformers=[('list',\n",
       "                                                  [('nltk_remove_urls',\n",
       "                                                    <src.TextPipeline.DataframeFunctionTransformer object at 0x7fac093d78d0>),\n",
       "                                                   ('nltk_lowercase',\n",
       "                                                    <src.TextPipeline.DataframeFunctionTransformer object at 0x7fac093dba10>),\n",
       "                                                   ('nltk_remove_numbers',\n",
       "                                                    <src.TextPipeline.DataframeFunctionTransformer object at 0x7fac093dba50>),\n",
       "                                                   (...\n",
       "                                                    <src.TextPipeline.DataframeFunctionTransformer object at 0x7fac093dbb10>),\n",
       "                                                   ('nltk_lemmatize',\n",
       "                                                    <src.TextPipeline.DataframeFunctionTransformer object at 0x7fac093dbb50>),\n",
       "                                                   ('nltk_join_text',\n",
       "                                                    <src.TextPipeline.DataframeFunctionTransformer object at 0x7fac093dbb90>),\n",
       "                                                   ('count', CountVectorizer()),\n",
       "                                                   ('tfid',\n",
       "                                                    TfidfTransformer())],\n",
       "                                                  <sklearn.compose._column_transformer.make_column_selector object at 0x7fac093dbc90>)]))])"
      ]
     },
     "execution_count": 66,
     "metadata": {},
     "output_type": "execute_result"
    }
   ],
   "source": [
    "pipe = TextPipeline.TextPipeline('mode_2')\n",
    "pipe.get_pipeline()"
   ]
  },
  {
   "cell_type": "code",
   "execution_count": 67,
   "metadata": {},
   "outputs": [
    {
     "data": {
      "text/html": [
       "<style>div.sk-top-container {color: black;background-color: white;}div.sk-toggleable {background-color: white;}label.sk-toggleable__label {cursor: pointer;display: block;width: 100%;margin-bottom: 0;padding: 0.2em 0.3em;box-sizing: border-box;text-align: center;}div.sk-toggleable__content {max-height: 0;max-width: 0;overflow: hidden;text-align: left;background-color: #f0f8ff;}div.sk-toggleable__content pre {margin: 0.2em;color: black;border-radius: 0.25em;background-color: #f0f8ff;}input.sk-toggleable__control:checked~div.sk-toggleable__content {max-height: 200px;max-width: 100%;overflow: auto;}div.sk-estimator input.sk-toggleable__control:checked~label.sk-toggleable__label {background-color: #d4ebff;}div.sk-label input.sk-toggleable__control:checked~label.sk-toggleable__label {background-color: #d4ebff;}input.sk-hidden--visually {border: 0;clip: rect(1px 1px 1px 1px);clip: rect(1px, 1px, 1px, 1px);height: 1px;margin: -1px;overflow: hidden;padding: 0;position: absolute;width: 1px;}div.sk-estimator {font-family: monospace;background-color: #f0f8ff;margin: 0.25em 0.25em;border: 1px dotted black;border-radius: 0.25em;box-sizing: border-box;}div.sk-estimator:hover {background-color: #d4ebff;}div.sk-parallel-item::after {content: \"\";width: 100%;border-bottom: 1px solid gray;flex-grow: 1;}div.sk-label:hover label.sk-toggleable__label {background-color: #d4ebff;}div.sk-serial::before {content: \"\";position: absolute;border-left: 1px solid gray;box-sizing: border-box;top: 2em;bottom: 0;left: 50%;}div.sk-serial {display: flex;flex-direction: column;align-items: center;background-color: white;}div.sk-item {z-index: 1;}div.sk-parallel {display: flex;align-items: stretch;justify-content: center;background-color: white;}div.sk-parallel-item {display: flex;flex-direction: column;position: relative;background-color: white;}div.sk-parallel-item:first-child::after {align-self: flex-end;width: 50%;}div.sk-parallel-item:last-child::after {align-self: flex-start;width: 50%;}div.sk-parallel-item:only-child::after {width: 0;}div.sk-dashed-wrapped {border: 1px dashed gray;margin: 0.2em;box-sizing: border-box;padding-bottom: 0.1em;background-color: white;position: relative;}div.sk-label label {font-family: monospace;font-weight: bold;background-color: white;display: inline-block;line-height: 1.2em;}div.sk-label-container {position: relative;z-index: 2;text-align: center;}div.sk-container {display: inline-block;position: relative;}</style><div class=\"sk-top-container\"><div class=\"sk-container\"><div class=\"sk-item sk-dashed-wrapped\"><div class=\"sk-label-container\"><div class=\"sk-label sk-toggleable\"><input class=\"sk-toggleable__control sk-hidden--visually\" id=\"46cd0c11-373c-4266-9098-4ceb2b461556\" type=\"checkbox\" ><label class=\"sk-toggleable__label\" for=\"46cd0c11-373c-4266-9098-4ceb2b461556\">Pipeline</label><div class=\"sk-toggleable__content\"><pre>Pipeline(steps=[('text_transform',\n",
       "                 ColumnTransformer(transformers=[('list',\n",
       "                                                  [('nltk_remove_urls',\n",
       "                                                    <src.TextPipeline.DataframeFunctionTransformer object at 0x7fac093e3450>),\n",
       "                                                   ('nltk_lowercase',\n",
       "                                                    <src.TextPipeline.DataframeFunctionTransformer object at 0x7fac093de0d0>),\n",
       "                                                   ('nltk_remove_numbers',\n",
       "                                                    <src.TextPipeline.DataframeFunctionTransformer object at 0x7fac093de110>),\n",
       "                                                   (...\n",
       "                                                    <src.TextPipeline.DataframeFunctionTransformer object at 0x7fac093de1d0>),\n",
       "                                                   ('nltk_lemmatize',\n",
       "                                                    <src.TextPipeline.DataframeFunctionTransformer object at 0x7fac093de210>),\n",
       "                                                   ('nltk_join_text',\n",
       "                                                    <src.TextPipeline.DataframeFunctionTransformer object at 0x7fac093de250>),\n",
       "                                                   ('count', CountVectorizer()),\n",
       "                                                   ('tfid',\n",
       "                                                    TfidfTransformer())],\n",
       "                                                  <sklearn.compose._column_transformer.make_column_selector object at 0x7fac093de350>)]))])</pre></div></div></div><div class=\"sk-serial\"><div class=\"sk-item sk-dashed-wrapped\"><div class=\"sk-label-container\"><div class=\"sk-label sk-toggleable\"><input class=\"sk-toggleable__control sk-hidden--visually\" id=\"92e40c4d-ef23-4d30-8265-c104bab4c6e9\" type=\"checkbox\" ><label class=\"sk-toggleable__label\" for=\"92e40c4d-ef23-4d30-8265-c104bab4c6e9\">text_transform: ColumnTransformer</label><div class=\"sk-toggleable__content\"><pre>ColumnTransformer(transformers=[('list',\n",
       "                                 [('nltk_remove_urls',\n",
       "                                   <src.TextPipeline.DataframeFunctionTransformer object at 0x7fac093e3450>),\n",
       "                                  ('nltk_lowercase',\n",
       "                                   <src.TextPipeline.DataframeFunctionTransformer object at 0x7fac093de0d0>),\n",
       "                                  ('nltk_remove_numbers',\n",
       "                                   <src.TextPipeline.DataframeFunctionTransformer object at 0x7fac093de110>),\n",
       "                                  ('nltk_remove_punctuation',\n",
       "                                   <src.Tex...\n",
       "                                   <src.TextPipeline.DataframeFunctionTransformer object at 0x7fac093de1d0>),\n",
       "                                  ('nltk_lemmatize',\n",
       "                                   <src.TextPipeline.DataframeFunctionTransformer object at 0x7fac093de210>),\n",
       "                                  ('nltk_join_text',\n",
       "                                   <src.TextPipeline.DataframeFunctionTransformer object at 0x7fac093de250>),\n",
       "                                  ('count', CountVectorizer()),\n",
       "                                  ('tfid', TfidfTransformer())],\n",
       "                                 <sklearn.compose._column_transformer.make_column_selector object at 0x7fac093de350>)])</pre></div></div></div><div class=\"sk-parallel\"><div class=\"sk-parallel-item\"><div class=\"sk-item\"><div class=\"sk-label-container\"><div class=\"sk-label sk-toggleable\"><input class=\"sk-toggleable__control sk-hidden--visually\" id=\"d975cbb4-f650-4ae8-9dcc-09378606ee7d\" type=\"checkbox\" ><label class=\"sk-toggleable__label\" for=\"d975cbb4-f650-4ae8-9dcc-09378606ee7d\">list</label><div class=\"sk-toggleable__content\"><pre><sklearn.compose._column_transformer.make_column_selector object at 0x7fac093de350></pre></div></div></div><div class=\"sk-serial\"><div class=\"sk-item\"><div class=\"sk-estimator sk-toggleable\"><input class=\"sk-toggleable__control sk-hidden--visually\" id=\"fc7846aa-2064-4899-9d3c-f2194296092f\" type=\"checkbox\" ><label class=\"sk-toggleable__label\" for=\"fc7846aa-2064-4899-9d3c-f2194296092f\">list</label><div class=\"sk-toggleable__content\"><pre>[('nltk_remove_urls', <src.TextPipeline.DataframeFunctionTransformer object at 0x7fac093e3450>), ('nltk_lowercase', <src.TextPipeline.DataframeFunctionTransformer object at 0x7fac093de0d0>), ('nltk_remove_numbers', <src.TextPipeline.DataframeFunctionTransformer object at 0x7fac093de110>), ('nltk_remove_punctuation', <src.TextPipeline.DataframeFunctionTransformer object at 0x7fac093de150>), ('nltk_tokenize', <src.TextPipeline.DataframeFunctionTransformer object at 0x7fac093de190>), ('nltk_remove_stopwords', <src.TextPipeline.DataframeFunctionTransformer object at 0x7fac093de1d0>), ('nltk_lemmatize', <src.TextPipeline.DataframeFunctionTransformer object at 0x7fac093de210>), ('nltk_join_text', <src.TextPipeline.DataframeFunctionTransformer object at 0x7fac093de250>), ('count', CountVectorizer()), ('tfid', TfidfTransformer())]</pre></div></div></div></div></div></div></div></div></div></div></div></div>"
      ],
      "text/plain": [
       "Pipeline(steps=[('text_transform',\n",
       "                 ColumnTransformer(transformers=[('list',\n",
       "                                                  [('nltk_remove_urls',\n",
       "                                                    <src.TextPipeline.DataframeFunctionTransformer object at 0x7fac093e3450>),\n",
       "                                                   ('nltk_lowercase',\n",
       "                                                    <src.TextPipeline.DataframeFunctionTransformer object at 0x7fac093de0d0>),\n",
       "                                                   ('nltk_remove_numbers',\n",
       "                                                    <src.TextPipeline.DataframeFunctionTransformer object at 0x7fac093de110>),\n",
       "                                                   (...\n",
       "                                                    <src.TextPipeline.DataframeFunctionTransformer object at 0x7fac093de1d0>),\n",
       "                                                   ('nltk_lemmatize',\n",
       "                                                    <src.TextPipeline.DataframeFunctionTransformer object at 0x7fac093de210>),\n",
       "                                                   ('nltk_join_text',\n",
       "                                                    <src.TextPipeline.DataframeFunctionTransformer object at 0x7fac093de250>),\n",
       "                                                   ('count', CountVectorizer()),\n",
       "                                                   ('tfid',\n",
       "                                                    TfidfTransformer())],\n",
       "                                                  <sklearn.compose._column_transformer.make_column_selector object at 0x7fac093de350>)]))])"
      ]
     },
     "execution_count": 67,
     "metadata": {},
     "output_type": "execute_result"
    }
   ],
   "source": [
    "pipe = TextPipeline.TextPipeline('mode_3')\n",
    "pipe.get_pipeline()"
   ]
  }
 ],
 "metadata": {
  "kernelspec": {
   "display_name": "Python 3",
   "language": "python",
   "name": "python3"
  },
  "language_info": {
   "codemirror_mode": {
    "name": "ipython",
    "version": 3
   },
   "file_extension": ".py",
   "mimetype": "text/x-python",
   "name": "python",
   "nbconvert_exporter": "python",
   "pygments_lexer": "ipython3",
   "version": "3.7.6"
  },
  "toc": {
   "base_numbering": 1,
   "nav_menu": {},
   "number_sections": true,
   "sideBar": true,
   "skip_h1_title": false,
   "title_cell": "Table of Contents",
   "title_sidebar": "Contents",
   "toc_cell": false,
   "toc_position": {},
   "toc_section_display": true,
   "toc_window_display": false
  }
 },
 "nbformat": 4,
 "nbformat_minor": 4
}
