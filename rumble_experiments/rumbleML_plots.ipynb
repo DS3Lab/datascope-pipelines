{
 "cells": [
  {
   "cell_type": "markdown",
   "metadata": {},
   "source": [
    "## Plot generation"
   ]
  },
  {
   "cell_type": "code",
   "execution_count": 5,
   "metadata": {},
   "outputs": [
    {
     "data": {
      "image/png": "[encoded data removed]",
      "text/plain": [
       "<Figure size 432x288 with 1 Axes>"
      ]
     },
     "metadata": {
      "needs_background": "light"
     },
     "output_type": "display_data"
    }
   ],
   "source": [
    "import pandas as pd\n",
    "import seaborn as sns\n",
    "\n",
    "df = pd.DataFrame(columns = ['time','pipe','spark'])\n",
    "df = df.append({'time (s)': 19 * 60 + 42.754, 'pipe': 0, 'spark': False}, ignore_index=True)\n",
    "df = df.append({'time (s)': 17 * 60 + 21.652, 'pipe': 1, 'spark': False}, ignore_index=True)\n",
    "# df = df.append({'time': 1.169, 'pipe': 3, 'spark': False}, ignore_index=True)\n",
    "# df = df.append({'time': 1.504, 'pipe': 5, 'spark': False}, ignore_index=True)\n",
    "\n",
    "df = df.append({'time (s)': 18 * 60 + 35.265, 'pipe': 0, 'spark': True}, ignore_index=True)\n",
    "df = df.append({'time (s)': 16 * 60 + 50.626, 'pipe': 1, 'spark': True}, ignore_index=True)\n",
    "# df = df.append({'time': 1.774, 'pipe': 3, 'spark': True}, ignore_index=True)\n",
    "# df = df.append({'time': 1.377, 'pipe': 5, 'spark': True}, ignore_index=True)\n",
    "\n",
    "ax = sns.barplot(x=\"pipe\", y=\"time (s)\", hue=\"spark\", data=df)\n",
    "\n"
   ]
  },
  {
   "cell_type": "code",
   "execution_count": 7,
   "metadata": {},
   "outputs": [
    {
     "data": {
      "image/png": "[encoded data removed]",
      "text/plain": [
       "<Figure size 432x288 with 1 Axes>"
      ]
     },
     "metadata": {
      "needs_background": "light"
     },
     "output_type": "display_data"
    }
   ],
   "source": [
    "import pandas as pd\n",
    "import seaborn as sns\n",
    "\n",
    "df = pd.DataFrame(columns = ['time','pipe','spark'])\n",
    "df = df.append({'time (s)': 8 * 60 + 12.095, 'pipe': 0, 'spark': False}, ignore_index=True)\n",
    "df = df.append({'time (s)': 8 * 60 + 1.179, 'pipe': 1, 'spark': False}, ignore_index=True)\n",
    "# df = df.append({'time': 1.169, 'pipe': 3, 'spark': False}, ignore_index=True)\n",
    "# df = df.append({'time': 1.504, 'pipe': 5, 'spark': False}, ignore_index=True)\n",
    "\n",
    "df = df.append({'time (s)': 5 * 60 + 13.108, 'pipe': 0, 'spark': True}, ignore_index=True)\n",
    "df = df.append({'time (s)': 6 * 60 + 37.043, 'pipe': 1, 'spark': True}, ignore_index=True)\n",
    "# df = df.append({'time': 1.774, 'pipe': 3, 'spark': True}, ignore_index=True)\n",
    "# df = df.append({'time': 1.377, 'pipe': 5, 'spark': True}, ignore_index=True)\n",
    "\n",
    "ax = sns.barplot(x=\"pipe\", y=\"time (s)\", hue=\"spark\", data=df)"
   ]
  }
 ],
 "metadata": {
  "interpreter": {
   "hash": "244f903178196d36fbfba2449c5f83f26f06c6159b04ebd44a04b5c6e8ea4107"
  },
  "kernelspec": {
   "display_name": "Python 3.7.7 64-bit ('fastai2': conda)",
   "name": "python3"
  },
  "language_info": {
   "codemirror_mode": {
    "name": "ipython",
    "version": 3
   },
   "file_extension": ".py",
   "mimetype": "text/x-python",
   "name": "python",
   "nbconvert_exporter": "python",
   "pygments_lexer": "ipython3",
   "version": "3.7.7"
  },
  "toc": {
   "base_numbering": 1,
   "nav_menu": {},
   "number_sections": true,
   "sideBar": true,
   "skip_h1_title": false,
   "title_cell": "Table of Contents",
   "title_sidebar": "Contents",
   "toc_cell": false,
   "toc_position": {},
   "toc_section_display": true,
   "toc_window_display": false
  }
 },
 "nbformat": 4,
 "nbformat_minor": 4
}
